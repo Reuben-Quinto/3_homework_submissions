{
 "cells": [
  {
   "cell_type": "markdown",
   "metadata": {},
   "source": [
    "### News Mood\n",
    "\n",
    "In this activity, we are going to review Tweepy.\n",
    "\n",
    "BBC, CBS, CNN, Fox, and New York times\n",
    "- - -"
   ]
  },
  {
   "cell_type": "code",
   "execution_count": 2,
   "metadata": {},
   "outputs": [],
   "source": [
    "# Dependencies\n",
    "import numpy as np\n",
    "import pandas as pd\n",
    "import tweepy\n",
    "import json\n",
    "import time\n",
    "from datetime import datetime\n",
    "import matplotlib.pyplot as plt\n",
    "from matplotlib import style\n",
    "style.use('ggplot')\n",
    "from config import (consumer_key, consumer_secret, \n",
    "                    access_token, access_token_secret)\n",
    "\n",
    "# Setup Tweepy API Authentication\n",
    "auth = tweepy.OAuthHandler(consumer_key, consumer_secret)\n",
    "auth.set_access_token(access_token, access_token_secret)\n",
    "api = tweepy.API(auth, parser=tweepy.parsers.JSONParser())\n",
    "\n",
    "# Import and Initialize Sentiment Analyzer\n",
    "from vaderSentiment.vaderSentiment import SentimentIntensityAnalyzer\n",
    "analyzer = SentimentIntensityAnalyzer()"
   ]
  },
  {
   "cell_type": "code",
   "execution_count": 6,
   "metadata": {},
   "outputs": [],
   "source": [
    "# \"Real Person\" Filters\n",
    "min_tweets = 5\n",
    "max_tweets = 10000\n",
    "max_followers = 2500\n",
    "max_following = 2500\n",
    "lang = \"en\""
   ]
  },
  {
   "cell_type": "code",
   "execution_count": 37,
   "metadata": {
    "scrolled": false
   },
   "outputs": [],
   "source": [
    "# Search for People Tweeting about Mark Hamill\n",
    "search_term = \"Gavin Newsom\"\n",
    "\n",
    "# Create variable for holding the oldest tweet\n",
    "oldest_tweet = None\n",
    "\n",
    "# List to hold unique IDs\n",
    "unique_ids = []\n",
    "results = []\n",
    "\n",
    "# Counter to keep track of the number of tweets retrieved\n",
    "counter = 0\n",
    "\n",
    "# Loop through 5 times (total of 500 tweets)\n",
    "for x in range(5):\n",
    "\n",
    "    # Retrieve 100 most recent tweets -- specifying a max_id\n",
    "    public_tweets = api.search(search_term, \n",
    "                               count=100,\n",
    "                               result_type=\"recent\", \n",
    "                               max_id=oldest_tweet)\n",
    "\n",
    "    # Print Tweets\n",
    "    for tweet in public_tweets[\"statuses\"]:\n",
    "        \n",
    "        tweet_id = tweet_id = tweet[\"id\"]\n",
    "        \n",
    "        # Use filters to check if user meets conditions\n",
    "        if (tweet[\"user\"][\"followers_count\"] < max_followers and\n",
    "            tweet[\"user\"][\"statuses_count\"] > min_tweets and\n",
    "            tweet[\"user\"][\"statuses_count\"] < max_tweets and\n",
    "            tweet[\"user\"][\"friends_count\"] < max_following and\n",
    "                tweet[\"user\"][\"lang\"] == lang):\n",
    "\n",
    "            # Print the username\n",
    "            #print(tweet[\"user\"][\"screen_name\"])\n",
    "\n",
    "            # Print the tweet id\n",
    "            #print(tweet[\"id_str\"])\n",
    "\n",
    "            # Print the tweet text\n",
    "            #print(tweet[\"text\"])\n",
    "            #print()\n",
    "\n",
    "            # Print the tweet date\n",
    "            #print(tweet[\"created_at\"])\n",
    "            #print()\n",
    "            \n",
    "            # Append tweet_id to ids list if it doesn't already exist\n",
    "            # This allows checking for duplicate tweets\n",
    "            if tweet_id not in unique_ids:\n",
    "                unique_ids.append(tweet_id)\n",
    "                \n",
    "                \n",
    "\n",
    "            # Increase counter by 1\n",
    "            counter += 1\n",
    "            results.append({\"User\": tweet[\"user\"][\"screen_name\"],\n",
    "                           \"Tweet\": tweet[\"text\"],\n",
    "                           \"Date\": tweet[\"created_at\"],\n",
    "                           \"Tweet ID Str\": tweet[\"id_str\"],\n",
    "                           \"Tweet ID\": tweet[\"id\"],\n",
    "                           \"Candidate\": search_term})\n",
    "            \n",
    "        # Reassign the the oldest tweet (i.e. the max_id)\n",
    "        # Subtract 1 so the previous oldest isn't included\n",
    "        # in the new search\n",
    "        oldest_tweet = tweet_id - 1"
   ]
  },
  {
   "cell_type": "code",
   "execution_count": 38,
   "metadata": {},
   "outputs": [
    {
     "data": {
      "text/html": [
       "<div>\n",
       "<style scoped>\n",
       "    .dataframe tbody tr th:only-of-type {\n",
       "        vertical-align: middle;\n",
       "    }\n",
       "\n",
       "    .dataframe tbody tr th {\n",
       "        vertical-align: top;\n",
       "    }\n",
       "\n",
       "    .dataframe thead th {\n",
       "        text-align: right;\n",
       "    }\n",
       "</style>\n",
       "<table border=\"1\" class=\"dataframe\">\n",
       "  <thead>\n",
       "    <tr style=\"text-align: right;\">\n",
       "      <th></th>\n",
       "      <th>Candidate</th>\n",
       "      <th>Date</th>\n",
       "      <th>Tweet</th>\n",
       "      <th>Tweet ID</th>\n",
       "      <th>Tweet ID Str</th>\n",
       "      <th>User</th>\n",
       "    </tr>\n",
       "  </thead>\n",
       "  <tbody>\n",
       "    <tr>\n",
       "      <th>0</th>\n",
       "      <td>Gavin Newsom</td>\n",
       "      <td>Wed Jun 13 02:19:21 +0000 2018</td>\n",
       "      <td>RT @KamVTV: I just paid OVER $4 for gas!\\n\\nJe...</td>\n",
       "      <td>1006722662549344256</td>\n",
       "      <td>1006722662549344256</td>\n",
       "      <td>J44morris</td>\n",
       "    </tr>\n",
       "    <tr>\n",
       "      <th>1</th>\n",
       "      <td>Gavin Newsom</td>\n",
       "      <td>Wed Jun 13 02:11:51 +0000 2018</td>\n",
       "      <td>@Kate1Kincaid @skramerbyu_82 Unfortunately, it...</td>\n",
       "      <td>1006720776882479106</td>\n",
       "      <td>1006720776882479106</td>\n",
       "      <td>Leslie97606493</td>\n",
       "    </tr>\n",
       "    <tr>\n",
       "      <th>2</th>\n",
       "      <td>Gavin Newsom</td>\n",
       "      <td>Wed Jun 13 02:07:27 +0000 2018</td>\n",
       "      <td>RT @KamVTV: I just paid OVER $4 for gas!\\n\\nJe...</td>\n",
       "      <td>1006719669108199430</td>\n",
       "      <td>1006719669108199430</td>\n",
       "      <td>MySuebell42</td>\n",
       "    </tr>\n",
       "    <tr>\n",
       "      <th>3</th>\n",
       "      <td>Gavin Newsom</td>\n",
       "      <td>Wed Jun 13 02:04:10 +0000 2018</td>\n",
       "      <td>The loudest cheers were for KD (w/ MVP chants)...</td>\n",
       "      <td>1006718841643077632</td>\n",
       "      <td>1006718841643077632</td>\n",
       "      <td>_emptyyourmind</td>\n",
       "    </tr>\n",
       "    <tr>\n",
       "      <th>4</th>\n",
       "      <td>Gavin Newsom</td>\n",
       "      <td>Wed Jun 13 01:53:07 +0000 2018</td>\n",
       "      <td>RT @KamVTV: I just paid OVER $4 for gas!\\n\\nJe...</td>\n",
       "      <td>1006716060358225920</td>\n",
       "      <td>1006716060358225920</td>\n",
       "      <td>tblbkb</td>\n",
       "    </tr>\n",
       "  </tbody>\n",
       "</table>\n",
       "</div>"
      ],
      "text/plain": [
       "      Candidate                            Date  \\\n",
       "0  Gavin Newsom  Wed Jun 13 02:19:21 +0000 2018   \n",
       "1  Gavin Newsom  Wed Jun 13 02:11:51 +0000 2018   \n",
       "2  Gavin Newsom  Wed Jun 13 02:07:27 +0000 2018   \n",
       "3  Gavin Newsom  Wed Jun 13 02:04:10 +0000 2018   \n",
       "4  Gavin Newsom  Wed Jun 13 01:53:07 +0000 2018   \n",
       "\n",
       "                                               Tweet             Tweet ID  \\\n",
       "0  RT @KamVTV: I just paid OVER $4 for gas!\\n\\nJe...  1006722662549344256   \n",
       "1  @Kate1Kincaid @skramerbyu_82 Unfortunately, it...  1006720776882479106   \n",
       "2  RT @KamVTV: I just paid OVER $4 for gas!\\n\\nJe...  1006719669108199430   \n",
       "3  The loudest cheers were for KD (w/ MVP chants)...  1006718841643077632   \n",
       "4  RT @KamVTV: I just paid OVER $4 for gas!\\n\\nJe...  1006716060358225920   \n",
       "\n",
       "          Tweet ID Str            User  \n",
       "0  1006722662549344256       J44morris  \n",
       "1  1006720776882479106  Leslie97606493  \n",
       "2  1006719669108199430     MySuebell42  \n",
       "3  1006718841643077632  _emptyyourmind  \n",
       "4  1006716060358225920          tblbkb  "
      ]
     },
     "execution_count": 38,
     "metadata": {},
     "output_type": "execute_result"
    }
   ],
   "source": [
    "results_pd = pd.DataFrame.from_dict(results)\n",
    "results_pd.head()"
   ]
  },
  {
   "cell_type": "code",
   "execution_count": 26,
   "metadata": {},
   "outputs": [
    {
     "name": "stdout",
     "output_type": "stream",
     "text": [
      "129\n"
     ]
    }
   ],
   "source": [
    "# Print total number of tweets retrieved\n",
    "print(counter)"
   ]
  },
  {
   "cell_type": "code",
   "execution_count": 27,
   "metadata": {},
   "outputs": [
    {
     "name": "stdout",
     "output_type": "stream",
     "text": [
      "129\n"
     ]
    }
   ],
   "source": [
    "# Print the number of unique ids retrieved\n",
    "print(len(unique_ids))\n"
   ]
  },
  {
   "cell_type": "code",
   "execution_count": 39,
   "metadata": {},
   "outputs": [],
   "source": [
    "# Export to CSV\n",
    "file_name = str(time.strftime(\"%m-%d-%y\")) + \"-Tweets.csv\"\n",
    "results_pd.to_csv(file_name, encoding=\"utf-8\")"
   ]
  },
  {
   "cell_type": "code",
   "execution_count": null,
   "metadata": {},
   "outputs": [],
   "source": []
  },
  {
   "cell_type": "code",
   "execution_count": null,
   "metadata": {},
   "outputs": [],
   "source": []
  }
 ],
 "metadata": {
  "kernelspec": {
   "display_name": "Python 3",
   "language": "python",
   "name": "python3"
  },
  "language_info": {
   "codemirror_mode": {
    "name": "ipython",
    "version": 3
   },
   "file_extension": ".py",
   "mimetype": "text/x-python",
   "name": "python",
   "nbconvert_exporter": "python",
   "pygments_lexer": "ipython3",
   "version": "3.6.4"
  }
 },
 "nbformat": 4,
 "nbformat_minor": 2
}
