{
 "cells": [
  {
   "cell_type": "code",
   "execution_count": 30,
   "metadata": {},
   "outputs": [],
   "source": [
    "# Dependencies\n",
    "import os\n",
    "import openpyxl as opxl\n",
    "\n",
    "# os.path is used for relative file locations\n",
    "# csvpaths = os.path.join(\".\",\"Resources\",\"netflix_ratings.csv\")\n"
   ]
  },
  {
   "cell_type": "code",
   "execution_count": 3,
   "metadata": {},
   "outputs": [
    {
     "name": "stdout",
     "output_type": "stream",
     "text": [
      " Volume in drive C is Blade Stealth\n",
      " Volume Serial Number is 52CD-B89E\n",
      "\n",
      " Directory of C:\\Users\\Reube\\Desktop\\UCI - Data Science\\3_homework_submissions\\18.06.21 - Project1\n",
      "\n",
      "06/14/2018  06:43 PM    <DIR>          .\n",
      "06/14/2018  06:43 PM    <DIR>          ..\n",
      "06/14/2018  06:39 PM    <DIR>          .ipynb_checkpoints\n",
      "06/12/2018  06:57 PM    <DIR>          __pycache__\n",
      "06/14/2018  06:19 PM    <DIR>          Archive (Delete)\n",
      "06/12/2018  07:25 PM            11,147 Candidate.ipynb\n",
      "06/07/2018  07:11 PM               363 config.py\n",
      "06/14/2018  06:36 PM    <DIR>          Resources\n",
      "06/14/2018  06:43 PM               575 Tesla.ipynb\n",
      "               3 File(s)         12,085 bytes\n",
      "               6 Dir(s)  327,197,814,784 bytes free\n"
     ]
    }
   ],
   "source": [
    "ls"
   ]
  },
  {
   "cell_type": "code",
   "execution_count": 107,
   "metadata": {},
   "outputs": [
    {
     "data": {
      "text/plain": [
       "['TESLA,_10-Q_20160510.xlsx',\n",
       " 'TESLA,_10-Q_20160805.xlsx',\n",
       " 'TESLA,_10-Q_20161102.xlsx',\n",
       " 'TESLA,_10-Q_20170510.xlsx',\n",
       " 'TESLA,_10-Q_20170804.xlsx',\n",
       " 'TESLA,_10-Q_20171103.xlsx',\n",
       " 'TESLA,_10-Q_20180507.xlsx']"
      ]
     },
     "execution_count": 107,
     "metadata": {},
     "output_type": "execute_result"
    }
   ],
   "source": [
    "financial_list = ['TESLA,_10-Q_20160510.xlsx',\n",
    " 'TESLA,_10-Q_20160805.xlsx',\n",
    " 'TESLA,_10-Q_20161102.xlsx',\n",
    " 'TESLA,_10-Q_20170510.xlsx',\n",
    " 'TESLA,_10-Q_20170804.xlsx',\n",
    " 'TESLA,_10-Q_20171103.xlsx',\n",
    " 'TESLA,_10-Q_20180507.xlsx']\n",
    "\n",
    "# Archive\n",
    "# financial_location = [financial_list.append(i) for i in os.listdir(\"./Resources/Tesla Financials\")]\n",
    "\n",
    "financial_list"
   ]
  },
  {
   "cell_type": "code",
   "execution_count": 88,
   "metadata": {},
   "outputs": [
    {
     "name": "stdout",
     "output_type": "stream",
     "text": [
      "Resources/Tesla Financials/TESLA,_10-Q_20160510.xls\n"
     ]
    }
   ],
   "source": [
    "print(\"Resources/Tesla Financials/\" + financial_list[0])"
   ]
  },
  {
   "cell_type": "code",
   "execution_count": 47,
   "metadata": {},
   "outputs": [
    {
     "name": "stdout",
     "output_type": "stream",
     "text": [
      " Volume in drive C is Blade Stealth\n",
      " Volume Serial Number is 52CD-B89E\n",
      "\n",
      " Directory of C:\\Users\\Reube\\Desktop\\UCI - Data Science\\3_homework_submissions\\18.06.21 - Project1\n",
      "\n",
      "06/14/2018  07:23 PM    <DIR>          .\n",
      "06/14/2018  07:23 PM    <DIR>          ..\n",
      "06/14/2018  06:39 PM    <DIR>          .ipynb_checkpoints\n",
      "06/12/2018  06:57 PM    <DIR>          __pycache__\n",
      "06/14/2018  06:19 PM    <DIR>          Archive (Delete)\n",
      "06/12/2018  07:25 PM            11,147 Candidate.ipynb\n",
      "06/07/2018  07:11 PM               363 config.py\n",
      "06/14/2018  06:36 PM    <DIR>          Resources\n",
      "06/14/2018  07:22 PM            85,463 TESLA,_10-Q_20180507.xlsx\n",
      "06/14/2018  07:21 PM             5,994 Tesla.ipynb\n",
      "               4 File(s)        102,967 bytes\n",
      "               6 Dir(s)  327,191,732,224 bytes free\n"
     ]
    }
   ],
   "source": [
    "ls"
   ]
  },
  {
   "cell_type": "code",
   "execution_count": null,
   "metadata": {},
   "outputs": [],
   "source": []
  },
  {
   "cell_type": "code",
   "execution_count": 65,
   "metadata": {},
   "outputs": [
    {
     "name": "stdout",
     "output_type": "stream",
     "text": [
      "Loss from operations,-596974\n"
     ]
    },
    {
     "name": "stderr",
     "output_type": "stream",
     "text": [
      "C:\\Users\\Reube\\Anaconda3\\lib\\site-packages\\openpyxl\\worksheet\\read_only.py:189: DeprecationWarning: Call to deprecated function get_squared_range (Use ws.iter_rows()).\n",
      "  for row in self.get_squared_range(column, row, column, row):\n",
      "C:\\Users\\Reube\\Anaconda3\\lib\\site-packages\\openpyxl\\worksheet\\read_only.py:189: DeprecationWarning: Call to deprecated function get_squared_range (Use ws.iter_rows()).\n",
      "  for row in self.get_squared_range(column, row, column, row):\n"
     ]
    }
   ],
   "source": [
    "# openpyxl to read in the file\n",
    "\n",
    "wb = opxl.load_workbook(filename=\"Resources/Tesla Financials/TESLA,_10-Q_20180507.xlsx\", read_only=True)\n",
    "print(f'{wb[\"INCOME_STATEMENT\"].cell(row=41, column=2).value},{wb[\"INCOME_STATEMENT\"].cell(row=41, column=3).value}')"
   ]
  },
  {
   "cell_type": "code",
   "execution_count": 79,
   "metadata": {},
   "outputs": [
    {
     "name": "stderr",
     "output_type": "stream",
     "text": [
      "C:\\Users\\Reube\\Anaconda3\\lib\\site-packages\\openpyxl\\worksheet\\read_only.py:189: DeprecationWarning: Call to deprecated function get_squared_range (Use ws.iter_rows()).\n",
      "  for row in self.get_squared_range(column, row, column, row):\n"
     ]
    },
    {
     "data": {
      "text/plain": [
       "'Loss from operations'"
      ]
     },
     "execution_count": 79,
     "metadata": {},
     "output_type": "execute_result"
    }
   ],
   "source": [
    "opxl.load_workbook(filename=\"Resources/Tesla Financials/TESLA,_10-Q_20180507.xlsx\", read_only=True)[\"INCOME_STATEMENT\"].cell(row=41, column=2).value"
   ]
  },
  {
   "cell_type": "code",
   "execution_count": 92,
   "metadata": {},
   "outputs": [
    {
     "name": "stderr",
     "output_type": "stream",
     "text": [
      "C:\\Users\\Reube\\Anaconda3\\lib\\site-packages\\openpyxl\\worksheet\\read_only.py:189: DeprecationWarning: Call to deprecated function get_squared_range (Use ws.iter_rows()).\n",
      "  for row in self.get_squared_range(column, row, column, row):\n"
     ]
    },
    {
     "data": {
      "text/plain": [
       "-596974"
      ]
     },
     "execution_count": 92,
     "metadata": {},
     "output_type": "execute_result"
    }
   ],
   "source": [
    "opxl.load_workbook(filename=\"Resources/Tesla Financials/TESLA,_10-Q_20180507.xlsx\", read_only=True)[\"INCOME_STATEMENT\"].cell(row=41, column=3).value"
   ]
  },
  {
   "cell_type": "raw",
   "metadata": {},
   "source": []
  },
  {
   "cell_type": "code",
   "execution_count": 111,
   "metadata": {
    "scrolled": true
   },
   "outputs": [
    {
     "name": "stderr",
     "output_type": "stream",
     "text": [
      "C:\\Users\\Reube\\Anaconda3\\lib\\site-packages\\openpyxl\\worksheet\\read_only.py:189: DeprecationWarning: Call to deprecated function get_squared_range (Use ws.iter_rows()).\n",
      "  for row in self.get_squared_range(column, row, column, row):\n",
      "C:\\Users\\Reube\\Anaconda3\\lib\\site-packages\\openpyxl\\worksheet\\read_only.py:189: DeprecationWarning: Call to deprecated function get_squared_range (Use ws.iter_rows()).\n",
      "  for row in self.get_squared_range(column, row, column, row):\n",
      "C:\\Users\\Reube\\Anaconda3\\lib\\site-packages\\openpyxl\\worksheet\\read_only.py:189: DeprecationWarning: Call to deprecated function get_squared_range (Use ws.iter_rows()).\n",
      "  for row in self.get_squared_range(column, row, column, row):\n"
     ]
    },
    {
     "name": "stdout",
     "output_type": "stream",
     "text": [
      "Resources/Tesla Financials/TESLA,_10-Q_20160510.xlsx\n",
      "Net loss -282267\n",
      "----------------------------------------\n",
      "Resources/Tesla Financials/TESLA,_10-Q_20160805.xlsx\n",
      "Net loss -293188\n",
      "----------------------------------------\n"
     ]
    },
    {
     "name": "stderr",
     "output_type": "stream",
     "text": [
      "C:\\Users\\Reube\\Anaconda3\\lib\\site-packages\\openpyxl\\worksheet\\read_only.py:189: DeprecationWarning: Call to deprecated function get_squared_range (Use ws.iter_rows()).\n",
      "  for row in self.get_squared_range(column, row, column, row):\n",
      "C:\\Users\\Reube\\Anaconda3\\lib\\site-packages\\openpyxl\\worksheet\\read_only.py:189: DeprecationWarning: Call to deprecated function get_squared_range (Use ws.iter_rows()).\n",
      "  for row in self.get_squared_range(column, row, column, row):\n",
      "C:\\Users\\Reube\\Anaconda3\\lib\\site-packages\\openpyxl\\worksheet\\read_only.py:189: DeprecationWarning: Call to deprecated function get_squared_range (Use ws.iter_rows()).\n",
      "  for row in self.get_squared_range(column, row, column, row):\n"
     ]
    },
    {
     "name": "stdout",
     "output_type": "stream",
     "text": [
      "Resources/Tesla Financials/TESLA,_10-Q_20161102.xlsx\n",
      "Interest income 2858\n",
      "----------------------------------------\n"
     ]
    },
    {
     "name": "stderr",
     "output_type": "stream",
     "text": [
      "C:\\Users\\Reube\\Anaconda3\\lib\\site-packages\\openpyxl\\worksheet\\read_only.py:189: DeprecationWarning: Call to deprecated function get_squared_range (Use ws.iter_rows()).\n",
      "  for row in self.get_squared_range(column, row, column, row):\n",
      "C:\\Users\\Reube\\Anaconda3\\lib\\site-packages\\openpyxl\\worksheet\\read_only.py:189: DeprecationWarning: Call to deprecated function get_squared_range (Use ws.iter_rows()).\n",
      "  for row in self.get_squared_range(column, row, column, row):\n"
     ]
    },
    {
     "name": "stdout",
     "output_type": "stream",
     "text": [
      "Resources/Tesla Financials/TESLA,_10-Q_20170510.xlsx\n",
      "Loss from operations -257549\n",
      "----------------------------------------\n"
     ]
    },
    {
     "name": "stderr",
     "output_type": "stream",
     "text": [
      "C:\\Users\\Reube\\Anaconda3\\lib\\site-packages\\openpyxl\\worksheet\\read_only.py:189: DeprecationWarning: Call to deprecated function get_squared_range (Use ws.iter_rows()).\n",
      "  for row in self.get_squared_range(column, row, column, row):\n",
      "C:\\Users\\Reube\\Anaconda3\\lib\\site-packages\\openpyxl\\worksheet\\read_only.py:189: DeprecationWarning: Call to deprecated function get_squared_range (Use ws.iter_rows()).\n",
      "  for row in self.get_squared_range(column, row, column, row):\n"
     ]
    },
    {
     "name": "stdout",
     "output_type": "stream",
     "text": [
      "Resources/Tesla Financials/TESLA,_10-Q_20170804.xlsx\n",
      "Loss from operations -240916\n",
      "----------------------------------------\n"
     ]
    },
    {
     "name": "stderr",
     "output_type": "stream",
     "text": [
      "C:\\Users\\Reube\\Anaconda3\\lib\\site-packages\\openpyxl\\worksheet\\read_only.py:189: DeprecationWarning: Call to deprecated function get_squared_range (Use ws.iter_rows()).\n",
      "  for row in self.get_squared_range(column, row, column, row):\n",
      "C:\\Users\\Reube\\Anaconda3\\lib\\site-packages\\openpyxl\\worksheet\\read_only.py:189: DeprecationWarning: Call to deprecated function get_squared_range (Use ws.iter_rows()).\n",
      "  for row in self.get_squared_range(column, row, column, row):\n"
     ]
    },
    {
     "name": "stdout",
     "output_type": "stream",
     "text": [
      "Resources/Tesla Financials/TESLA,_10-Q_20171103.xlsx\n",
      "(Loss) income from operations -535480\n",
      "----------------------------------------\n",
      "Resources/Tesla Financials/TESLA,_10-Q_20180507.xlsx\n",
      "Loss from operations -596974\n",
      "----------------------------------------\n"
     ]
    },
    {
     "name": "stderr",
     "output_type": "stream",
     "text": [
      "C:\\Users\\Reube\\Anaconda3\\lib\\site-packages\\openpyxl\\worksheet\\read_only.py:189: DeprecationWarning: Call to deprecated function get_squared_range (Use ws.iter_rows()).\n",
      "  for row in self.get_squared_range(column, row, column, row):\n",
      "C:\\Users\\Reube\\Anaconda3\\lib\\site-packages\\openpyxl\\worksheet\\read_only.py:189: DeprecationWarning: Call to deprecated function get_squared_range (Use ws.iter_rows()).\n",
      "  for row in self.get_squared_range(column, row, column, row):\n"
     ]
    }
   ],
   "source": [
    "# loop\n",
    "\n",
    "for i in financial_list:    \n",
    "    acct = opxl.load_workbook(filename=f\"Resources/Tesla Financials/{i}\", read_only=True)[\"INCOME_STATEMENT\"].cell(row=41, column=2).value\n",
    "    amt = opxl.load_workbook(filename=f\"Resources/Tesla Financials/{i}\", read_only=True)[\"INCOME_STATEMENT\"].cell(row=41, column=3).value\n",
    "    print(f\"Resources/Tesla Financials/{i}\")\n",
    "    print(acct, amt)\n",
    "    print(\"----------------------------------------\")"
   ]
  },
  {
   "cell_type": "code",
   "execution_count": null,
   "metadata": {},
   "outputs": [],
   "source": []
  }
 ],
 "metadata": {
  "kernelspec": {
   "display_name": "Python 3",
   "language": "python",
   "name": "python3"
  },
  "language_info": {
   "codemirror_mode": {
    "name": "ipython",
    "version": 3
   },
   "file_extension": ".py",
   "mimetype": "text/x-python",
   "name": "python",
   "nbconvert_exporter": "python",
   "pygments_lexer": "ipython3",
   "version": "3.6.4"
  }
 },
 "nbformat": 4,
 "nbformat_minor": 2
}
