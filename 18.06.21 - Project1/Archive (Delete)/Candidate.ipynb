{
 "cells": [
  {
   "cell_type": "code",
   "execution_count": 1,
   "metadata": {},
   "outputs": [],
   "source": [
    "import tweepy\n",
    "import json\n",
    "from config import (consumer_key, consumer_secret, \n",
    "                    access_token, access_token_secret)\n",
    "\n",
    "# Setup Tweepy API Authentication\n",
    "auth = tweepy.OAuthHandler(consumer_key, consumer_secret)\n",
    "auth.set_access_token(access_token, access_token_secret)\n",
    "api = tweepy.API(auth, parser=tweepy.parsers.JSONParser())"
   ]
  },
  {
   "cell_type": "raw",
   "metadata": {},
   "source": [
    "neils_text = []\n",
    "for x in range(1,5):\n",
    "    api.user_timeline(\"neiltyson\", page=x)\n",
    "    for i in range(len(api.user_timeline(\"neiltyson\"))):\n",
    "        neils_text.append(api.user_timeline(\"neiltyson\")[i][\"text\"])\n",
    "    \n",
    "neils_text"
   ]
  },
  {
   "cell_type": "code",
   "execution_count": 19,
   "metadata": {},
   "outputs": [
    {
     "name": "stdout",
     "output_type": "stream",
     "text": [
      "Wed Jun 13 02:11:51 +0000 2018\n",
      "@Kate1Kincaid @skramerbyu_82 Unfortunately, it’s too late!  Our only hope was Travis Allen, but the deep state rigg… https://t.co/IgrdKL3wVl\n",
      "---------------------------------------------\n",
      "Wed Jun 13 02:09:02 +0000 2018\n",
      "@ScottPresler @conservusa1980s I voted for Travis Allen in CA (Gov), but will support John Cox against Newsome ever… https://t.co/hjf0i3VxxJ\n",
      "---------------------------------------------\n",
      "Wed Jun 13 02:03:33 +0000 2018\n",
      "Look how many supporters Travis Allen has👇But John Cox, his goons &amp; the CA Sec of State say no...\n",
      "https://t.co/qshEz5pI7t\n",
      "---------------------------------------------\n",
      "Wed Jun 13 01:55:42 +0000 2018\n",
      "RT @RodriguesNeal: In light of clear election fraud. I am asking all Travis Allen voters to focus on discovering as much evidence as possib…\n",
      "---------------------------------------------\n",
      "Wed Jun 13 01:48:24 +0000 2018\n",
      "RT @WarriorofGod97: STILL STANDS! Plug/Shout-out for integrity 🇺🇸 #MAGA VALUES of #TravisAllenForCAGovernor  \n",
      "\n",
      "🤡HOLD U'RE HORSES #johncox #…\n",
      "---------------------------------------------\n",
      "Wed Jun 13 01:39:27 +0000 2018\n",
      "RT @sandraschulze: According to the Secretary of State website, on June 8th @JoinTravisAllen had 451,657 votes. Today, June 9th, the site s…\n",
      "---------------------------------------------\n",
      "Wed Jun 13 01:39:22 +0000 2018\n",
      "@AmeriKindred @MagaCandidates2 @PhilMcCrackin44 @DonaldJTrumpJr @FLOTUS @RealDrGina @grizz_meister @herbegerenews… https://t.co/y2d129QUUS\n",
      "---------------------------------------------\n",
      "Wed Jun 13 01:35:40 +0000 2018\n",
      "RT @Juliana4Trump: @SebGorka @realDonaldTrump What an amazing champion for the art of the deal and for win win negotiations.  I’m so proud…\n",
      "---------------------------------------------\n",
      "Wed Jun 13 01:35:02 +0000 2018\n",
      "RT @AllenVolunteers: We would love to hear from @AlexPadilla4CA @CASOSvote how a candidate LOSES votes after they have been cast and counte…\n",
      "---------------------------------------------\n",
      "Wed Jun 13 01:29:53 +0000 2018\n",
      "RT @AllenVolunteers: We would love to hear from @AlexPadilla4CA @CASOSvote how a candidate LOSES votes after they have been cast and counte…\n",
      "---------------------------------------------\n",
      "Wed Jun 13 01:28:29 +0000 2018\n",
      "@e2pilot @rm1evo ugh, that sucks.... that's the kind of thing I was worried about w/Travis Allen and the CA gov nomination.\n",
      "---------------------------------------------\n",
      "Wed Jun 13 00:32:28 +0000 2018\n",
      "Love Trump but Catherine Templeton is a stronger conservative. You can compare her to Travis Allen in Cal. vs, Cox https://t.co/6x1atPQ1jt\n",
      "---------------------------------------------\n",
      "Wed Jun 13 00:28:35 +0000 2018\n",
      "RT @GMconservative: The Western Journal conducted a survey to gather info on the CA 2018 GOP primary election. The Western Journal’s survey…\n",
      "---------------------------------------------\n",
      "Wed Jun 13 00:25:47 +0000 2018\n",
      "RT @ScottPresler: I know many of you worked so hard for Travis Allen, and we're thankful for the energy he's brought to California.\n",
      "\n",
      "We nee…\n",
      "---------------------------------------------\n",
      "Wed Jun 13 00:08:55 +0000 2018\n",
      "RT @zuzu2007: #AB2943 The Voice of PEOPLE！#Takebackcalifornia Travis Allen is always a fighter！ Live video in sacramento！https://t.co/dpqYe…\n",
      "---------------------------------------------\n"
     ]
    }
   ],
   "source": [
    "# general loop\n",
    "for i in range(len(api.search(\"travis allen\")[\"statuses\"])):\n",
    "    print(api.search(\"travis allen\")[\"statuses\"][i][\"created_at\"])\n",
    "    print(api.search(\"travis allen\")[\"statuses\"][i][\"text\"])\n",
    "    print(\"---------------------------------------------\")"
   ]
  },
  {
   "cell_type": "code",
   "execution_count": 17,
   "metadata": {
    "scrolled": false
   },
   "outputs": [
    {
     "ename": "TweepError",
     "evalue": "[{'code': 44, 'message': 'page parameter is invalid.'}]",
     "output_type": "error",
     "traceback": [
      "\u001b[1;31m---------------------------------------------------------------------------\u001b[0m",
      "\u001b[1;31mTweepError\u001b[0m                                Traceback (most recent call last)",
      "\u001b[1;32m<ipython-input-17-8f5fdeb09992>\u001b[0m in \u001b[0;36m<module>\u001b[1;34m()\u001b[0m\n\u001b[0;32m      1\u001b[0m \u001b[1;32mfor\u001b[0m \u001b[0mx\u001b[0m \u001b[1;32min\u001b[0m \u001b[0mrange\u001b[0m\u001b[1;33m(\u001b[0m\u001b[1;36m1\u001b[0m\u001b[1;33m,\u001b[0m\u001b[1;36m5\u001b[0m\u001b[1;33m)\u001b[0m\u001b[1;33m:\u001b[0m\u001b[1;33m\u001b[0m\u001b[0m\n\u001b[1;32m----> 2\u001b[1;33m     \u001b[0mapi\u001b[0m\u001b[1;33m.\u001b[0m\u001b[0msearch\u001b[0m\u001b[1;33m(\u001b[0m\u001b[1;34m\"travis allen\"\u001b[0m\u001b[1;33m,\u001b[0m\u001b[0mpage\u001b[0m\u001b[1;33m=\u001b[0m\u001b[0mx\u001b[0m\u001b[1;33m)\u001b[0m\u001b[1;33m\u001b[0m\u001b[0m\n\u001b[0m\u001b[0;32m      3\u001b[0m     \u001b[1;32mfor\u001b[0m \u001b[0mi\u001b[0m \u001b[1;32min\u001b[0m \u001b[0mrange\u001b[0m\u001b[1;33m(\u001b[0m\u001b[0mlen\u001b[0m\u001b[1;33m(\u001b[0m\u001b[0mapi\u001b[0m\u001b[1;33m.\u001b[0m\u001b[0msearch\u001b[0m\u001b[1;33m(\u001b[0m\u001b[1;34m\"travis allen\"\u001b[0m\u001b[1;33m)\u001b[0m\u001b[1;33m)\u001b[0m\u001b[1;33m)\u001b[0m\u001b[1;33m:\u001b[0m\u001b[1;33m\u001b[0m\u001b[0m\n\u001b[0;32m      4\u001b[0m         \u001b[0mprint\u001b[0m\u001b[1;33m(\u001b[0m\u001b[0mapi\u001b[0m\u001b[1;33m.\u001b[0m\u001b[0msearch\u001b[0m\u001b[1;33m(\u001b[0m\u001b[1;34m\"travis allen\"\u001b[0m\u001b[1;33m)\u001b[0m\u001b[1;33m[\u001b[0m\u001b[1;34m\"statuses\"\u001b[0m\u001b[1;33m]\u001b[0m\u001b[1;33m[\u001b[0m\u001b[0mi\u001b[0m\u001b[1;33m]\u001b[0m\u001b[1;33m[\u001b[0m\u001b[1;34m\"created_at\"\u001b[0m\u001b[1;33m]\u001b[0m\u001b[1;33m)\u001b[0m\u001b[1;33m\u001b[0m\u001b[0m\n\u001b[0;32m      5\u001b[0m         \u001b[0mprint\u001b[0m\u001b[1;33m(\u001b[0m\u001b[0mapi\u001b[0m\u001b[1;33m.\u001b[0m\u001b[0msearch\u001b[0m\u001b[1;33m(\u001b[0m\u001b[1;34m\"travis allen\"\u001b[0m\u001b[1;33m)\u001b[0m\u001b[1;33m[\u001b[0m\u001b[1;34m\"statuses\"\u001b[0m\u001b[1;33m]\u001b[0m\u001b[1;33m[\u001b[0m\u001b[0mi\u001b[0m\u001b[1;33m]\u001b[0m\u001b[1;33m[\u001b[0m\u001b[1;34m\"text\"\u001b[0m\u001b[1;33m]\u001b[0m\u001b[1;33m)\u001b[0m\u001b[1;33m\u001b[0m\u001b[0m\n",
      "\u001b[1;32m~\\Anaconda3\\lib\\site-packages\\tweepy\\binder.py\u001b[0m in \u001b[0;36m_call\u001b[1;34m(*args, **kwargs)\u001b[0m\n\u001b[0;32m    248\u001b[0m             \u001b[1;32mreturn\u001b[0m \u001b[0mmethod\u001b[0m\u001b[1;33m\u001b[0m\u001b[0m\n\u001b[0;32m    249\u001b[0m         \u001b[1;32melse\u001b[0m\u001b[1;33m:\u001b[0m\u001b[1;33m\u001b[0m\u001b[0m\n\u001b[1;32m--> 250\u001b[1;33m             \u001b[1;32mreturn\u001b[0m \u001b[0mmethod\u001b[0m\u001b[1;33m.\u001b[0m\u001b[0mexecute\u001b[0m\u001b[1;33m(\u001b[0m\u001b[1;33m)\u001b[0m\u001b[1;33m\u001b[0m\u001b[0m\n\u001b[0m\u001b[0;32m    251\u001b[0m \u001b[1;33m\u001b[0m\u001b[0m\n\u001b[0;32m    252\u001b[0m     \u001b[1;31m# Set pagination mode\u001b[0m\u001b[1;33m\u001b[0m\u001b[1;33m\u001b[0m\u001b[0m\n",
      "\u001b[1;32m~\\Anaconda3\\lib\\site-packages\\tweepy\\binder.py\u001b[0m in \u001b[0;36mexecute\u001b[1;34m(self)\u001b[0m\n\u001b[0;32m    232\u001b[0m                     \u001b[1;32mraise\u001b[0m \u001b[0mRateLimitError\u001b[0m\u001b[1;33m(\u001b[0m\u001b[0merror_msg\u001b[0m\u001b[1;33m,\u001b[0m \u001b[0mresp\u001b[0m\u001b[1;33m)\u001b[0m\u001b[1;33m\u001b[0m\u001b[0m\n\u001b[0;32m    233\u001b[0m                 \u001b[1;32melse\u001b[0m\u001b[1;33m:\u001b[0m\u001b[1;33m\u001b[0m\u001b[0m\n\u001b[1;32m--> 234\u001b[1;33m                     \u001b[1;32mraise\u001b[0m \u001b[0mTweepError\u001b[0m\u001b[1;33m(\u001b[0m\u001b[0merror_msg\u001b[0m\u001b[1;33m,\u001b[0m \u001b[0mresp\u001b[0m\u001b[1;33m,\u001b[0m \u001b[0mapi_code\u001b[0m\u001b[1;33m=\u001b[0m\u001b[0mapi_error_code\u001b[0m\u001b[1;33m)\u001b[0m\u001b[1;33m\u001b[0m\u001b[0m\n\u001b[0m\u001b[0;32m    235\u001b[0m \u001b[1;33m\u001b[0m\u001b[0m\n\u001b[0;32m    236\u001b[0m             \u001b[1;31m# Parse the response payload\u001b[0m\u001b[1;33m\u001b[0m\u001b[1;33m\u001b[0m\u001b[0m\n",
      "\u001b[1;31mTweepError\u001b[0m: [{'code': 44, 'message': 'page parameter is invalid.'}]"
     ]
    }
   ],
   "source": [
    "# page parameter\n",
    "for x in range(1,5):\n",
    "    api.search(\"travis allen\",page=x)\n",
    "    for i in range(len(api.search(\"travis allen\"))):\n",
    "        print(api.search(\"travis allen\")[\"statuses\"][i][\"created_at\"])\n",
    "        print(api.search(\"travis allen\")[\"statuses\"][i][\"text\"])\n",
    "        print(\"---------------------------------------------\")"
   ]
  },
  {
   "cell_type": "code",
   "execution_count": null,
   "metadata": {},
   "outputs": [],
   "source": []
  },
  {
   "cell_type": "raw",
   "metadata": {},
   "source": []
  },
  {
   "cell_type": "markdown",
   "metadata": {},
   "source": [
    "# Carla Mauro"
   ]
  },
  {
   "cell_type": "code",
   "execution_count": null,
   "metadata": {},
   "outputs": [],
   "source": []
  }
 ],
 "metadata": {
  "kernelspec": {
   "display_name": "Python 3",
   "language": "python",
   "name": "python3"
  },
  "language_info": {
   "codemirror_mode": {
    "name": "ipython",
    "version": 3
   },
   "file_extension": ".py",
   "mimetype": "text/x-python",
   "name": "python",
   "nbconvert_exporter": "python",
   "pygments_lexer": "ipython3",
   "version": "3.6.4"
  }
 },
 "nbformat": 4,
 "nbformat_minor": 2
}
