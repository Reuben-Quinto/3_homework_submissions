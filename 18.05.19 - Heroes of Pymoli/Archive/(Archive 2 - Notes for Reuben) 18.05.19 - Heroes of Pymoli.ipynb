{
 "cells": [
  {
   "cell_type": "markdown",
   "metadata": {},
   "source": [
    "# Instructions:\n",
    "\n",
    "## Player Count\n",
    "• Total number of Players\n",
    "\n",
    "## Purchasing Analysis\n",
    "• Number of unique items\n",
    "• Avg purchasing price\n",
    "• Total number of purchases\n",
    "• Total revenue\n",
    "\n",
    "## Gender Demographics\n",
    "• Percentage of Female Players & Count of Female Players\n",
    "• Percentage of Male Players & Count of Male Players\n",
    "• Percentage of Other/Non-Disclosed Players & Count of Other/Non-Disclosed Players\n",
    "\n",
    "## Purchasing Analysis (By Gender)\n",
    "Female:\n",
    "• Purchase Count\n",
    "• Average Purchase Price\n",
    "• Total Purchase Value\n",
    "• Normalized Totals\n",
    "\n",
    "Male:\n",
    "• Purchase Count\n",
    "• Average Purchase Price\n",
    "• Total Purchase Value\n",
    "• Normalized Totals\n",
    "\n",
    "## Age Demographics\n",
    "Table Summry (By age):\n",
    "• Purchase Count\n",
    "• Average Purchase Price\n",
    "• Total Purchase Value\n",
    "• Normalized Totals\n",
    "\n",
    "## Top Spenders\n",
    "Top 5 Spenders:\n",
    "• SN\n",
    "• Purchase Count\n",
    "• Average Purchase Price\n",
    "• Total Purchase Value\n",
    "\n",
    "## Most Popular Items\n",
    "Top 5 Popular Items:\n",
    "• Name ID\n",
    "• Item Name\n",
    "• Purchase Count\n",
    "• Item Price\n",
    "• Total Purchase Value"
   ]
  },
  {
   "cell_type": "code",
   "execution_count": 2,
   "metadata": {},
   "outputs": [
    {
     "data": {
      "text/html": [
       "<div>\n",
       "<style scoped>\n",
       "    .dataframe tbody tr th:only-of-type {\n",
       "        vertical-align: middle;\n",
       "    }\n",
       "\n",
       "    .dataframe tbody tr th {\n",
       "        vertical-align: top;\n",
       "    }\n",
       "\n",
       "    .dataframe thead th {\n",
       "        text-align: right;\n",
       "    }\n",
       "</style>\n",
       "<table border=\"1\" class=\"dataframe\">\n",
       "  <thead>\n",
       "    <tr style=\"text-align: right;\">\n",
       "      <th></th>\n",
       "      <th>Age</th>\n",
       "      <th>Gender</th>\n",
       "      <th>Item ID</th>\n",
       "      <th>Item Name</th>\n",
       "      <th>Price</th>\n",
       "      <th>SN</th>\n",
       "    </tr>\n",
       "  </thead>\n",
       "  <tbody>\n",
       "    <tr>\n",
       "      <th>0</th>\n",
       "      <td>38</td>\n",
       "      <td>Male</td>\n",
       "      <td>165</td>\n",
       "      <td>Bone Crushing Silver Skewer</td>\n",
       "      <td>3.37</td>\n",
       "      <td>Aelalis34</td>\n",
       "    </tr>\n",
       "    <tr>\n",
       "      <th>1</th>\n",
       "      <td>21</td>\n",
       "      <td>Male</td>\n",
       "      <td>119</td>\n",
       "      <td>Stormbringer, Dark Blade of Ending Misery</td>\n",
       "      <td>2.32</td>\n",
       "      <td>Eolo46</td>\n",
       "    </tr>\n",
       "    <tr>\n",
       "      <th>2</th>\n",
       "      <td>34</td>\n",
       "      <td>Male</td>\n",
       "      <td>174</td>\n",
       "      <td>Primitive Blade</td>\n",
       "      <td>2.46</td>\n",
       "      <td>Assastnya25</td>\n",
       "    </tr>\n",
       "    <tr>\n",
       "      <th>3</th>\n",
       "      <td>21</td>\n",
       "      <td>Male</td>\n",
       "      <td>92</td>\n",
       "      <td>Final Critic</td>\n",
       "      <td>1.36</td>\n",
       "      <td>Pheusrical25</td>\n",
       "    </tr>\n",
       "    <tr>\n",
       "      <th>4</th>\n",
       "      <td>23</td>\n",
       "      <td>Male</td>\n",
       "      <td>63</td>\n",
       "      <td>Stormfury Mace</td>\n",
       "      <td>1.27</td>\n",
       "      <td>Aela59</td>\n",
       "    </tr>\n",
       "  </tbody>\n",
       "</table>\n",
       "</div>"
      ],
      "text/plain": [
       "   Age Gender  Item ID                                  Item Name  Price  \\\n",
       "0   38   Male      165                Bone Crushing Silver Skewer   3.37   \n",
       "1   21   Male      119  Stormbringer, Dark Blade of Ending Misery   2.32   \n",
       "2   34   Male      174                            Primitive Blade   2.46   \n",
       "3   21   Male       92                               Final Critic   1.36   \n",
       "4   23   Male       63                             Stormfury Mace   1.27   \n",
       "\n",
       "             SN  \n",
       "0     Aelalis34  \n",
       "1        Eolo46  \n",
       "2   Assastnya25  \n",
       "3  Pheusrical25  \n",
       "4        Aela59  "
      ]
     },
     "execution_count": 2,
     "metadata": {},
     "output_type": "execute_result"
    }
   ],
   "source": [
    "# dependencies\n",
    "import pandas as pd\n",
    "\n",
    "file = \"purchase_data.json\"\n",
    "\n",
    "# read file\n",
    "purchase_df = pd.read_json(file)\n",
    "purchase_df.head()"
   ]
  },
  {
   "cell_type": "code",
   "execution_count": 19,
   "metadata": {},
   "outputs": [],
   "source": [
    "# columns:\n",
    "\n",
    "# age:\n",
    "age = purchase_df[\"Age\"]\n",
    "\n",
    "# gender:\n",
    "gender = purchase_df[\"Gender\"]\n",
    "by_gender = gender.groupby(purchase_df[\"Gender\"])\n",
    "\n",
    "\n",
    "# item id:\n",
    "item_id = purchase_df[\"Item ID\"]\n",
    "\n",
    "# item name:\n",
    "item_name = purchase_df[\"Item Name\"]\n",
    "no_purchases = len(item_name)\n",
    "\n",
    "unique_items = item_name.unique()\n",
    "no_unique_items = len(unique_items)\n",
    "\n",
    "# item price:\n",
    "price = purchase_df[\"Price\"]\n",
    "total_rev = price.sum()\n",
    "\n",
    "avg_price = price.mean()\n",
    "\n",
    "# name:\n",
    "sn = purchase_df[\"SN\"]\n",
    "\n",
    "unique_players = len(sn.unique())\n",
    "\n",
    "# test\n"
   ]
  },
  {
   "cell_type": "raw",
   "metadata": {},
   "source": []
  },
  {
   "cell_type": "markdown",
   "metadata": {},
   "source": [
    "## Player Count"
   ]
  },
  {
   "cell_type": "code",
   "execution_count": 4,
   "metadata": {},
   "outputs": [
    {
     "data": {
      "text/html": [
       "<div>\n",
       "<style scoped>\n",
       "    .dataframe tbody tr th:only-of-type {\n",
       "        vertical-align: middle;\n",
       "    }\n",
       "\n",
       "    .dataframe tbody tr th {\n",
       "        vertical-align: top;\n",
       "    }\n",
       "\n",
       "    .dataframe thead th {\n",
       "        text-align: right;\n",
       "    }\n",
       "</style>\n",
       "<table border=\"1\" class=\"dataframe\">\n",
       "  <thead>\n",
       "    <tr style=\"text-align: right;\">\n",
       "      <th></th>\n",
       "      <th>Player Count</th>\n",
       "    </tr>\n",
       "  </thead>\n",
       "  <tbody>\n",
       "    <tr>\n",
       "      <th>0</th>\n",
       "      <td>573</td>\n",
       "    </tr>\n",
       "  </tbody>\n",
       "</table>\n",
       "</div>"
      ],
      "text/plain": [
       "   Player Count\n",
       "0           573"
      ]
     },
     "execution_count": 4,
     "metadata": {},
     "output_type": "execute_result"
    }
   ],
   "source": [
    "player_count = pd.DataFrame({\"Player Count\": [unique_players]})\n",
    "player_count"
   ]
  },
  {
   "cell_type": "markdown",
   "metadata": {},
   "source": [
    "## Purchasing Analysis (Total)"
   ]
  },
  {
   "cell_type": "code",
   "execution_count": 5,
   "metadata": {},
   "outputs": [
    {
     "data": {
      "text/html": [
       "<div>\n",
       "<style scoped>\n",
       "    .dataframe tbody tr th:only-of-type {\n",
       "        vertical-align: middle;\n",
       "    }\n",
       "\n",
       "    .dataframe tbody tr th {\n",
       "        vertical-align: top;\n",
       "    }\n",
       "\n",
       "    .dataframe thead th {\n",
       "        text-align: right;\n",
       "    }\n",
       "</style>\n",
       "<table border=\"1\" class=\"dataframe\">\n",
       "  <thead>\n",
       "    <tr style=\"text-align: right;\">\n",
       "      <th></th>\n",
       "      <th>Number of Unique Items</th>\n",
       "      <th>Avg. Purchase Price</th>\n",
       "      <th>Total Number of Purchases</th>\n",
       "      <th>Total Number of Revenue</th>\n",
       "    </tr>\n",
       "  </thead>\n",
       "  <tbody>\n",
       "    <tr>\n",
       "      <th>0</th>\n",
       "      <td>179</td>\n",
       "      <td>$2.93</td>\n",
       "      <td>780</td>\n",
       "      <td>$2,286.33</td>\n",
       "    </tr>\n",
       "  </tbody>\n",
       "</table>\n",
       "</div>"
      ],
      "text/plain": [
       "   Number of Unique Items Avg. Purchase Price  Total Number of Purchases  \\\n",
       "0                     179               $2.93                        780   \n",
       "\n",
       "  Total Number of Revenue  \n",
       "0               $2,286.33  "
      ]
     },
     "execution_count": 5,
     "metadata": {},
     "output_type": "execute_result"
    }
   ],
   "source": [
    "purchasing_analysis = pd.DataFrame({\n",
    "    \"Number of Unique Items\":[no_unique_items],\n",
    "    \"Avg. Purchase Price\": [\"${:,.2f}\".format(avg_price)],\n",
    "    \"Total Number of Purchases\" : [no_purchases],\n",
    "    \"Total Number of Revenue\" : [\"${:,.2f}\".format(total_rev)]\n",
    "})\n",
    "\n",
    "\n",
    "purchasing_analysis[[\"Number of Unique Items\",\"Avg. Purchase Price\",\"Total Number of Purchases\", \"Total Number of Revenue\"]]"
   ]
  },
  {
   "cell_type": "markdown",
   "metadata": {},
   "source": [
    " "
   ]
  },
  {
   "cell_type": "markdown",
   "metadata": {},
   "source": [
    "## Gender Demographics"
   ]
  },
  {
   "cell_type": "markdown",
   "metadata": {},
   "source": [
    " "
   ]
  },
  {
   "cell_type": "code",
   "execution_count": 21,
   "metadata": {},
   "outputs": [
    {
     "data": {
      "text/html": [
       "<div>\n",
       "<style scoped>\n",
       "    .dataframe tbody tr th:only-of-type {\n",
       "        vertical-align: middle;\n",
       "    }\n",
       "\n",
       "    .dataframe tbody tr th {\n",
       "        vertical-align: top;\n",
       "    }\n",
       "\n",
       "    .dataframe thead th {\n",
       "        text-align: right;\n",
       "    }\n",
       "</style>\n",
       "<table border=\"1\" class=\"dataframe\">\n",
       "  <thead>\n",
       "    <tr style=\"text-align: right;\">\n",
       "      <th></th>\n",
       "      <th>% by Counts</th>\n",
       "      <th>Counts</th>\n",
       "    </tr>\n",
       "  </thead>\n",
       "  <tbody>\n",
       "    <tr>\n",
       "      <th>Male</th>\n",
       "      <td>0.81</td>\n",
       "      <td>633</td>\n",
       "    </tr>\n",
       "    <tr>\n",
       "      <th>Female</th>\n",
       "      <td>0.17</td>\n",
       "      <td>136</td>\n",
       "    </tr>\n",
       "    <tr>\n",
       "      <th>Other / Non-Disclosed</th>\n",
       "      <td>0.01</td>\n",
       "      <td>11</td>\n",
       "    </tr>\n",
       "  </tbody>\n",
       "</table>\n",
       "</div>"
      ],
      "text/plain": [
       "                       % by Counts  Counts\n",
       "Male                          0.81     633\n",
       "Female                        0.17     136\n",
       "Other / Non-Disclosed         0.01      11"
      ]
     },
     "execution_count": 21,
     "metadata": {},
     "output_type": "execute_result"
    }
   ],
   "source": [
    "gen_demo = pd.DataFrame({})\n",
    "\n",
    "gen_demo[\"% by Counts\"] = round(purchase_df[\"Gender\"].value_counts()/no_purchases,2)\n",
    "gen_demo[\"Counts\"] = purchase_df[\"Gender\"].value_counts()\n",
    "\n",
    "gen_demo"
   ]
  },
  {
   "cell_type": "markdown",
   "metadata": {},
   "source": [
    "## Purchasing Analysis (By Gender)"
   ]
  },
  {
   "cell_type": "code",
   "execution_count": 80,
   "metadata": {},
   "outputs": [
    {
     "data": {
      "text/html": [
       "<div>\n",
       "<style scoped>\n",
       "    .dataframe tbody tr th:only-of-type {\n",
       "        vertical-align: middle;\n",
       "    }\n",
       "\n",
       "    .dataframe tbody tr th {\n",
       "        vertical-align: top;\n",
       "    }\n",
       "\n",
       "    .dataframe thead th {\n",
       "        text-align: right;\n",
       "    }\n",
       "</style>\n",
       "<table border=\"1\" class=\"dataframe\">\n",
       "  <thead>\n",
       "    <tr style=\"text-align: right;\">\n",
       "      <th></th>\n",
       "      <th>Purchase Count</th>\n",
       "      <th>Average Purchase Price</th>\n",
       "      <th>Total Purchase Value</th>\n",
       "    </tr>\n",
       "  </thead>\n",
       "  <tbody>\n",
       "    <tr>\n",
       "      <th>Male</th>\n",
       "      <td>633</td>\n",
       "      <td>2.95</td>\n",
       "      <td>1867.68</td>\n",
       "    </tr>\n",
       "    <tr>\n",
       "      <th>Female</th>\n",
       "      <td>136</td>\n",
       "      <td>2.82</td>\n",
       "      <td>382.91</td>\n",
       "    </tr>\n",
       "    <tr>\n",
       "      <th>Other / Non-Disclosed</th>\n",
       "      <td>11</td>\n",
       "      <td>3.25</td>\n",
       "      <td>35.74</td>\n",
       "    </tr>\n",
       "  </tbody>\n",
       "</table>\n",
       "</div>"
      ],
      "text/plain": [
       "                       Purchase Count  Average Purchase Price  \\\n",
       "Male                              633                    2.95   \n",
       "Female                            136                    2.82   \n",
       "Other / Non-Disclosed              11                    3.25   \n",
       "\n",
       "                       Total Purchase Value  \n",
       "Male                                1867.68  \n",
       "Female                               382.91  \n",
       "Other / Non-Disclosed                 35.74  "
      ]
     },
     "execution_count": 80,
     "metadata": {},
     "output_type": "execute_result"
    }
   ],
   "source": [
    "purch_anal = pd.DataFrame({})\n",
    "\n",
    "\n",
    "purch_anal[\"Purchase Count\"] = purchase_df[\"Gender\"].value_counts()\n",
    "by_gen = purchase_df.groupby([\"Gender\"])\n",
    "purch_anal[\"Average Purchase Price\"] = round(by_gen[\"Price\"].mean(),2)\n",
    "purch_anal[\"Total Purchase Value\"] = by_gen[\"Price\"].sum()\n",
    "# purch_anal[\"Normalized Totals\"] = \n",
    "\n",
    "purch_anal"
   ]
  },
  {
   "cell_type": "markdown",
   "metadata": {},
   "source": [
    "## Age Demographics"
   ]
  },
  {
   "cell_type": "code",
   "execution_count": 114,
   "metadata": {},
   "outputs": [
    {
     "name": "stdout",
     "output_type": "stream",
     "text": [
      "0\n",
      "32\n",
      "78\n",
      "184\n",
      "305\n"
     ]
    }
   ],
   "source": [
    "age_demo = pd.DataFrame({})\n",
    "\n",
    "bins = [0, 5, 10, 15, 20, 25, 30, 35, 40, 45, 50]\n",
    "labels = [\"Less Than 5\", \"Less Than 10\", \"Less Than 15\", \"Less Than 20\", \"Less Than 25\", \"Less Than 30\", \"Less Than 35\", \"Less Than 40\", \"Less Than 45\", \"Less Than 50\"]\n",
    "\n",
    "purchase_df[\"Interval\"] = pd.cut(purchase_df[\"Age\"], bins, labels=labels)\n",
    "\n",
    "age_by_purch = purchase_df[\"Interval\"].value_counts()\n",
    "print(age_by_purch[0])\n",
    "print(age_by_purch[1])\n",
    "print(age_by_purch[2])\n",
    "print(age_by_purch[3])\n",
    "print(age_by_purch[4])\n",
    "\n",
    "\n",
    "#ge_by_purch[\n",
    "\n",
    "\"Age\"].value_counts()[0]\n",
    "#ge_demo[\"Less Than 5\"] = \n",
    "#rint(age_demo)\n",
    "# age_demo[\"Less Than 10\"] = \n",
    "# age_demo[\"Less Than 15\"] = \n",
    "# age_demo[\"Less Than 20\"] = \n",
    "# age_demo[\"Less Than 25\"] = \n",
    "# age_demo[\"Less Than 30\"] = \n",
    "# age_demo[\"Less Than 35\"] = \n",
    "# age_demo[\"Less Than 40\"] = \n",
    "# age_demo[\"Less Than 45\"] = \n",
    "# age_demo[\"Less Than 50\"] = \n",
    "\n",
    "# age_demo"
   ]
  },
  {
   "cell_type": "code",
   "execution_count": null,
   "metadata": {},
   "outputs": [],
   "source": []
  },
  {
   "cell_type": "code",
   "execution_count": null,
   "metadata": {},
   "outputs": [],
   "source": []
  },
  {
   "cell_type": "code",
   "execution_count": null,
   "metadata": {},
   "outputs": [],
   "source": []
  }
 ],
 "metadata": {
  "kernelspec": {
   "display_name": "Python 3",
   "language": "python",
   "name": "python3"
  }
 },
 "nbformat": 4,
 "nbformat_minor": 2
}
