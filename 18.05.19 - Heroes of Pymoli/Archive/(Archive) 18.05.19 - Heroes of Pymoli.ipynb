{
 "cells": [
  {
   "cell_type": "code",
   "execution_count": 1,
   "metadata": {},
   "outputs": [],
   "source": [
    "# dependencies\n",
    "import pandas as pd\n",
    "\n",
    "# file paths\n",
    "items = \"Resources/items_complete.csv\"\n",
    "players = \"Resources/players_complete.csv\"\n",
    "purch1 = \"Resources/purchase_data.json\"\n",
    "purch2 = \"Resources/purchase_data_3.csv\"\n",
    "purch3 = \"Resources/purchase_data_3.json~51e29357f0f3ed3e3ef812657c279d35bfcddf67\"\n",
    "purch4 = \"Resources/purchase_data_3.json~HEAD\""
   ]
  },
  {
   "cell_type": "code",
   "execution_count": 41,
   "metadata": {},
   "outputs": [
    {
     "name": "stdout",
     "output_type": "stream",
     "text": [
      "Resources/items_complete.csv--------------------------------------------------\n",
      "Headers:\n",
      "Resources/items_complete.csv\n",
      "Resources/players_complete.csv--------------------------------------------------\n",
      "Headers:\n",
      "Resources/players_complete.csv\n",
      "Resources/purchase_data.json--------------------------------------------------\n",
      "Headers:\n",
      "Resources/purchase_data.json\n",
      "Resources/purchase_data_3.csv--------------------------------------------------\n",
      "Headers:\n",
      "Resources/purchase_data_3.csv\n",
      "Resources/purchase_data_3.json~51e29357f0f3ed3e3ef812657c279d35bfcddf67--------------------------------------------------\n",
      "Headers:\n",
      "Resources/purchase_data_3.json~51e29357f0f3ed3e3ef812657c279d35bfcddf67\n",
      "Resources/purchase_data_3.json~HEAD--------------------------------------------------\n",
      "Headers:\n",
      "Resources/purchase_data_3.json~HEAD\n"
     ]
    }
   ],
   "source": [
    "files = [items,players,purch1,purch2,purch3,purch4]\n",
    "\n",
    "for i in files:\n",
    "    print(str(i) + \"--------------------------------------------------\")\n",
    "    print(\"Headers:\")\n",
    "    print(i)"
   ]
  },
  {
   "cell_type": "code",
   "execution_count": 62,
   "metadata": {},
   "outputs": [
    {
     "name": "stdout",
     "output_type": "stream",
     "text": [
      "items_complete.csv --------------------------------------------------\n",
      "Headers:\n",
      "Index(['Item ID', 'Item Name', 'Price'], dtype='object')\n",
      "Summary:\n",
      "          Item ID       Price\n",
      "count  190.000000  190.000000\n",
      "mean    94.500000    2.890158\n",
      "std     54.992424    1.167021\n",
      "min      0.000000    1.020000\n",
      "25%     47.250000    1.840000\n",
      "50%     94.500000    2.785000\n",
      "75%    141.750000    4.007500\n",
      "max    189.000000    4.970000\n",
      "players_complete.csv --------------------------------------------------\n",
      "Headers:\n",
      "Index(['Player ID', 'SN', 'Age', 'Gender'], dtype='object')\n",
      "Summary:\n",
      "         Player ID          Age\n",
      "count  1163.000000  1163.000000\n",
      "mean    581.000000    22.548581\n",
      "std     335.873488     6.966727\n",
      "min       0.000000     7.000000\n",
      "25%     290.500000    19.000000\n",
      "50%     581.000000    22.000000\n",
      "75%     871.500000    25.000000\n",
      "max    1162.000000    45.000000\n",
      "purchase_data.json--------------------------------------------------\n",
      "Headers:\n",
      "Index(['Age', 'Gender', 'Item ID', 'Item Name', 'Price', 'SN'], dtype='object')\n",
      "Summary:\n",
      "              Age     Item ID       Price\n",
      "count  780.000000  780.000000  780.000000\n",
      "mean    22.729487   91.293590    2.931192\n",
      "std      6.930604   52.707537    1.115780\n",
      "min      7.000000    0.000000    1.030000\n",
      "25%     19.000000   44.000000    1.960000\n",
      "50%     22.000000   91.000000    2.880000\n",
      "75%     25.000000  135.000000    3.910000\n",
      "max     45.000000  183.000000    4.950000\n",
      "purchase_data_3.csv--------------------------------------------------\n",
      "Headers:\n",
      "Index(['Purchase ID', 'SN', 'Age', 'Gender', 'Item ID', 'Item Name', 'Price'], dtype='object')\n",
      "Summary:\n",
      "       Purchase ID        Age     Item ID      Price\n",
      "count    78.000000  78.000000   78.000000  78.000000\n",
      "mean     38.500000  22.551282   93.935897   2.924359\n",
      "std      22.660538   7.339003   56.352633   1.134913\n",
      "min       0.000000   7.000000    0.000000   1.020000\n",
      "25%      19.250000  20.000000   48.000000   1.925000\n",
      "50%      38.500000  22.500000   97.500000   2.770000\n",
      "75%      57.750000  25.000000  137.000000   4.092500\n",
      "max      77.000000  40.000000  181.000000   4.810000\n",
      "purchase_data_3.json--------------------------------------------------\n",
      "Headers:\n",
      "Index(['Age', 'Gender', 'Item ID', 'Item Name', 'Price', 'SN'], dtype='object')\n",
      "Summary:\n",
      "             Age     Item ID      Price\n",
      "count  78.000000   78.000000  78.000000\n",
      "mean   22.551282   93.935897   2.924359\n",
      "std     7.339003   56.352633   1.134913\n",
      "min     7.000000    0.000000   1.020000\n",
      "25%    20.000000   48.000000   1.925000\n",
      "50%    22.500000   97.500000   2.770000\n",
      "75%    25.000000  137.000000   4.092500\n",
      "max    40.000000  181.000000   4.810000\n",
      "purchase_data_3.json~head--------------------------------------------------\n",
      "Headers:\n",
      "Age            int64\n",
      "Gender        object\n",
      "Item ID        int64\n",
      "Item Name     object\n",
      "Price        float64\n",
      "SN            object\n",
      "dtype: object\n",
      "Summary:\n",
      "              Age     Item ID       Price\n",
      "count  780.000000  780.000000  780.000000\n",
      "mean    22.807692   90.891026    3.032269\n",
      "std      7.114428   52.884253    1.201268\n",
      "min      7.000000    0.000000    1.140000\n",
      "25%     19.000000   46.000000    1.975000\n",
      "50%     22.000000   92.000000    2.890000\n",
      "75%     25.000000  136.000000    4.120000\n",
      "max     45.000000  183.000000    4.990000\n"
     ]
    }
   ],
   "source": [
    "# research - files\n",
    "\n",
    "print(\"items_complete.csv --------------------------------------------------\")\n",
    "\n",
    "print(\"Headers:\")\n",
    "\n",
    "print(items_df.columns)\n",
    "\n",
    "print(\"Summary:\")\n",
    "\n",
    "items_df = pd.read_csv(items)\n",
    "print(items_df.describe())\n",
    "\n",
    "print(\"players_complete.csv --------------------------------------------------\")\n",
    "\n",
    "print(\"Headers:\")\n",
    "\n",
    "print(players_df.columns)\n",
    "\n",
    "print(\"Summary:\")\n",
    "players_df = pd.read_csv(players)\n",
    "print(players_df.describe())\n",
    "\n",
    "print(\"purchase_data.json--------------------------------------------------\")\n",
    "\n",
    "print(\"Headers:\")\n",
    "\n",
    "print(purch1_df.columns)\n",
    "\n",
    "print(\"Summary:\")\n",
    "\n",
    "purch1_df = pd.read_json(purch1)\n",
    "print(purch1_df.describe())\n",
    "\n",
    "print(\"purchase_data_3.csv--------------------------------------------------\")\n",
    "\n",
    "print(\"Headers:\")\n",
    "\n",
    "print(purch2_df.columns)\n",
    "\n",
    "print(\"Summary:\")\n",
    "\n",
    "purch2_df = pd.read_csv(purch2)\n",
    "print(purch2_df.describe())\n",
    "\n",
    "print(\"purchase_data_3.json--------------------------------------------------\")\n",
    "\n",
    "print(\"Headers:\")\n",
    "\n",
    "print(purch3_df.columns)\n",
    "\n",
    "print(\"Summary:\")\n",
    "\n",
    "purch3_df = pd.read_json(purch3)\n",
    "print(purch3_df.describe())\n",
    "\n",
    "print(\"purchase_data_3.json~head--------------------------------------------------\")\n",
    "\n",
    "print(\"Headers:\")\n",
    "\n",
    "print(purch4_df.dtypes)\n",
    "\n",
    "print(\"Summary:\")\n",
    "\n",
    "purch4_df = pd.read_json(purch4)\n",
    "print(purch4_df.describe())"
   ]
  },
  {
   "cell_type": "code",
   "execution_count": 86,
   "metadata": {},
   "outputs": [
    {
     "data": {
      "text/plain": [
       "186"
      ]
     },
     "execution_count": 86,
     "metadata": {},
     "output_type": "execute_result"
    }
   ],
   "source": [
    "# research - number of unique items \n",
    "\n",
    "no_unique = len(items_df[\"Item Name\"].value_counts())\n",
    "no_unique"
   ]
  },
  {
   "cell_type": "code",
   "execution_count": 85,
   "metadata": {},
   "outputs": [
    {
     "data": {
      "text/plain": [
       "'$2.89'"
      ]
     },
     "execution_count": 85,
     "metadata": {},
     "output_type": "execute_result"
    }
   ],
   "source": [
    "# research - average purchase price\n",
    "avg_price = \"$\" + str(round(items_df[\"Price\"].mean(),2))\n",
    "avg_price\n",
    "\n",
    "# items_df[\"Price\"].mean().map(\"${:.2f}\".format)"
   ]
  },
  {
   "cell_type": "code",
   "execution_count": null,
   "metadata": {},
   "outputs": [],
   "source": []
  },
  {
   "cell_type": "markdown",
   "metadata": {},
   "source": [
    "# Number of Players"
   ]
  },
  {
   "cell_type": "code",
   "execution_count": 64,
   "metadata": {},
   "outputs": [
    {
     "data": {
      "text/html": [
       "<div>\n",
       "<style scoped>\n",
       "    .dataframe tbody tr th:only-of-type {\n",
       "        vertical-align: middle;\n",
       "    }\n",
       "\n",
       "    .dataframe tbody tr th {\n",
       "        vertical-align: top;\n",
       "    }\n",
       "\n",
       "    .dataframe thead th {\n",
       "        text-align: right;\n",
       "    }\n",
       "</style>\n",
       "<table border=\"1\" class=\"dataframe\">\n",
       "  <thead>\n",
       "    <tr style=\"text-align: right;\">\n",
       "      <th></th>\n",
       "      <th>Total Players</th>\n",
       "    </tr>\n",
       "  </thead>\n",
       "  <tbody>\n",
       "    <tr>\n",
       "      <th>0</th>\n",
       "      <td>1163</td>\n",
       "    </tr>\n",
       "  </tbody>\n",
       "</table>\n",
       "</div>"
      ],
      "text/plain": [
       "   Total Players\n",
       "0           1163"
      ]
     },
     "execution_count": 64,
     "metadata": {},
     "output_type": "execute_result"
    }
   ],
   "source": [
    "pd.DataFrame({\"Total Players\":[len(players_df[\"SN\"])]})"
   ]
  },
  {
   "cell_type": "markdown",
   "metadata": {},
   "source": [
    "# Purchasing Analysis (Total)"
   ]
  },
  {
   "cell_type": "code",
   "execution_count": null,
   "metadata": {},
   "outputs": [],
   "source": []
  }
 ],
 "metadata": {
  "kernelspec": {
   "display_name": "Python 3",
   "language": "python",
   "name": "python3"
  },
  "language_info": {
   "codemirror_mode": {
    "name": "ipython",
    "version": 3
   },
   "file_extension": ".py",
   "mimetype": "text/x-python",
   "name": "python",
   "nbconvert_exporter": "python",
   "pygments_lexer": "ipython3",
   "version": "3.6.4"
  }
 },
 "nbformat": 4,
 "nbformat_minor": 2
}
