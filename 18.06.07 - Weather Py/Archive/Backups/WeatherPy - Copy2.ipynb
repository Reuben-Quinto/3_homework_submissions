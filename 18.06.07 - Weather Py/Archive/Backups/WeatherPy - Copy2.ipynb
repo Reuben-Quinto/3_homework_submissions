{
 "cells": [
  {
   "cell_type": "markdown",
   "metadata": {},
   "source": [
    "## Resources\n",
    "\n",
    "https://www.openweathermap.org/api\n",
    "\n",
    "Latitude and longitude parameters: api.openweathermap.org/data/2.5/weather?lat={lat}&lon={lon}\n",
    "\n",
    "Documentation: https://www.openweathermap.org/current"
   ]
  },
  {
   "cell_type": "code",
   "execution_count": 22,
   "metadata": {},
   "outputs": [],
   "source": [
    "# dependencies\n",
    "import matplotlib as plt\n",
    "import requests\n",
    "from config import api_key\n",
    "\n",
    "\n",
    "url = \"http://api.openweathermap.org/data/2.5/weather?\" + \"appid=\" + api_key "
   ]
  },
  {
   "cell_type": "code",
   "execution_count": 23,
   "metadata": {},
   "outputs": [],
   "source": [
    "# parameters\n",
    "city = \"Paris\"\n",
    "units = \"imperial\"\n",
    "lat: \"34.052235\"\n",
    "lon: \"-118.243683\"\n",
    "\n",
    "# url_param = url + \"&q=\" + city + \"&units=\" + units\n",
    "# url_param_coor = url_param + \"lat={\" + lat + \"}&lon={\" + lon +\"}\"\n",
    "# url_param_coor"
   ]
  },
  {
   "cell_type": "code",
   "execution_count": 24,
   "metadata": {},
   "outputs": [
    {
     "data": {
      "text/plain": [
       "{'cod': 401,\n",
       " 'message': 'Invalid API key. Please see http://openweathermap.org/faq#error401 for more info.'}"
      ]
     },
     "execution_count": 24,
     "metadata": {},
     "output_type": "execute_result"
    }
   ],
   "source": [
    "# testing lon and lat\n",
    "requests.get(url+\"lat={34.052235}&lon={-118.243683}\").json()"
   ]
  },
  {
   "cell_type": "code",
   "execution_count": 25,
   "metadata": {},
   "outputs": [
    {
     "data": {
      "text/plain": [
       "{'base': 'stations',\n",
       " 'clouds': {'all': 1},\n",
       " 'cod': 200,\n",
       " 'coord': {'lat': 34.05, 'lon': -118.24},\n",
       " 'dt': 1528574280,\n",
       " 'id': 5368361,\n",
       " 'main': {'humidity': 54,\n",
       "  'pressure': 1013,\n",
       "  'temp': 299.78,\n",
       "  'temp_max': 305.15,\n",
       "  'temp_min': 294.15},\n",
       " 'name': 'Los Angeles',\n",
       " 'sys': {'country': 'US',\n",
       "  'id': 416,\n",
       "  'message': 0.005,\n",
       "  'sunrise': 1528548064,\n",
       "  'sunset': 1528599838,\n",
       "  'type': 1},\n",
       " 'visibility': 16093,\n",
       " 'weather': [{'description': 'clear sky',\n",
       "   'icon': '01d',\n",
       "   'id': 800,\n",
       "   'main': 'Clear'}],\n",
       " 'wind': {'speed': 1.5}}"
      ]
     },
     "execution_count": 25,
     "metadata": {},
     "output_type": "execute_result"
    }
   ],
   "source": [
    "# testing lon and lat 2\n",
    "requests.get(\"http://api.openweathermap.org/data/2.5/weather?\" + \"appid=\" + api_key + \"&lat=34.052235&lon=-118.243683\").json()"
   ]
  },
  {
   "cell_type": "code",
   "execution_count": 26,
   "metadata": {},
   "outputs": [
    {
     "data": {
      "text/plain": [
       "{'cod': 401,\n",
       " 'message': 'Invalid API key. Please see http://openweathermap.org/faq#error401 for more info.'}"
      ]
     },
     "execution_count": 26,
     "metadata": {},
     "output_type": "execute_result"
    }
   ],
   "source": [
    "# testing \"Cities within a rectangle zone\"\n",
    "requests.get(\"http://api.openweathermap.org/data/2.5/box/city?\" + \"appid=\" + api_key + \"bbox=\" + \"180,90,180,90\").json()"
   ]
  },
  {
   "cell_type": "code",
   "execution_count": null,
   "metadata": {},
   "outputs": [],
   "source": []
  },
  {
   "cell_type": "raw",
   "metadata": {},
   "source": [
    "# testing pointer\n",
    "\n",
    "rand = [(77.1872, -50.2987, 'upernavik', 'gl'),\n",
    " (-15.4319, -9.5621, 'jamestown', 'sh'),\n",
    " (-44.9778, -15.1282, 'jamestown', 'sh'),\n",
    " (29.1244, -34.5672, 'ribeira grande', 'pt'),\n",
    " (-15.7635, -16.8478, 'georgetown', 'sh'),\n",
    " (3.616, 92.3604, 'banda aceh', 'id'),\n",
    " (-11.3981, 7.9445, 'benguela', 'ao'),\n",
    " (22.6779, 81.9728, 'pendra', 'in'),\n",
    " (-20.0719, -68.9412, 'iquique', 'cl'),\n",
    " (6.1814, 98.3885, 'kuah', 'my')]\n",
    "\n",
    "_,_,city,_ = rand[0]\n",
    "print(city)"
   ]
  },
  {
   "cell_type": "code",
   "execution_count": 20,
   "metadata": {},
   "outputs": [
    {
     "name": "stdout",
     "output_type": "stream",
     "text": [
      "Requirement already satisfied: citipy in c:\\users\\reube\\anaconda3\\lib\\site-packages\n",
      "Requirement already satisfied: kdtree>=0.12 in c:\\users\\reube\\anaconda3\\lib\\site-packages (from citipy)\n"
     ]
    },
    {
     "name": "stderr",
     "output_type": "stream",
     "text": [
      "You are using pip version 9.0.1, however version 10.0.1 is available.\n",
      "You should consider upgrading via the 'python -m pip install --upgrade pip' command.\n"
     ]
    }
   ],
   "source": [
    "!pip install citipy"
   ]
  },
  {
   "cell_type": "code",
   "execution_count": 27,
   "metadata": {},
   "outputs": [
    {
     "ename": "NameError",
     "evalue": "name 'citipy' is not defined",
     "output_type": "error",
     "traceback": [
      "\u001b[1;31m---------------------------------------------------------------------------\u001b[0m",
      "\u001b[1;31mNameError\u001b[0m                                 Traceback (most recent call last)",
      "\u001b[1;32m<ipython-input-27-ee6c3f7cfc0a>\u001b[0m in \u001b[0;36m<module>\u001b[1;34m()\u001b[0m\n\u001b[1;32m----> 1\u001b[1;33m \u001b[0mcity\u001b[0m \u001b[1;33m=\u001b[0m \u001b[0mcitipy\u001b[0m\u001b[1;33m.\u001b[0m\u001b[0mnearest_city\u001b[0m\u001b[1;33m(\u001b[0m\u001b[1;36m33.8583\u001b[0m\u001b[1;33m,\u001b[0m \u001b[1;33m-\u001b[0m\u001b[1;36m118.0648\u001b[0m\u001b[1;33m)\u001b[0m\u001b[1;33m\u001b[0m\u001b[0m\n\u001b[0m\u001b[0;32m      2\u001b[0m \u001b[0mcity\u001b[0m\u001b[1;33m.\u001b[0m\u001b[0mcity_name\u001b[0m\u001b[1;33m\u001b[0m\u001b[0m\n",
      "\u001b[1;31mNameError\u001b[0m: name 'citipy' is not defined"
     ]
    }
   ],
   "source": [
    "city = citipy.nearest_city(33.8583, -118.0648)\n",
    "city.city_name"
   ]
  },
  {
   "cell_type": "markdown",
   "metadata": {},
   "source": []
  },
  {
   "cell_type": "code",
   "execution_count": null,
   "metadata": {},
   "outputs": [],
   "source": []
  },
  {
   "cell_type": "code",
   "execution_count": 101,
   "metadata": {},
   "outputs": [
    {
     "name": "stdout",
     "output_type": "stream",
     "text": [
      "{\n",
      "    \"base\": \"stations\",\n",
      "    \"clouds\": {\n",
      "        \"all\": 20\n",
      "    },\n",
      "    \"cod\": 200,\n",
      "    \"coord\": {\n",
      "        \"lat\": -43.03,\n",
      "        \"lon\": 147.26\n",
      "    },\n",
      "    \"dt\": 1528596000,\n",
      "    \"id\": 2158744,\n",
      "    \"main\": {\n",
      "        \"humidity\": 66,\n",
      "        \"pressure\": 1028,\n",
      "        \"temp\": 51.8,\n",
      "        \"temp_max\": 51.8,\n",
      "        \"temp_min\": 51.8\n",
      "    },\n",
      "    \"name\": \"Margate\",\n",
      "    \"sys\": {\n",
      "        \"country\": \"AU\",\n",
      "        \"id\": 8195,\n",
      "        \"message\": 0.0033,\n",
      "        \"sunrise\": 1528580295,\n",
      "        \"sunset\": 1528612938,\n",
      "        \"type\": 1\n",
      "    },\n",
      "    \"visibility\": 10000,\n",
      "    \"weather\": [\n",
      "        {\n",
      "            \"description\": \"few clouds\",\n",
      "            \"icon\": \"02d\",\n",
      "            \"id\": 801,\n",
      "            \"main\": \"Clouds\"\n",
      "        }\n",
      "    ],\n",
      "    \"wind\": {\n",
      "        \"deg\": 320,\n",
      "        \"speed\": 6.93\n",
      "    }\n",
      "}\n"
     ]
    }
   ],
   "source": [
    "print(json.dumps(requests.get(url + \"&q=\" + city.city_name + \"&units=\" + units).json(),indent=4,sort_keys=True))"
   ]
  },
  {
   "cell_type": "code",
   "execution_count": 134,
   "metadata": {},
   "outputs": [
    {
     "data": {
      "text/plain": [
       "{'cod': '404', 'message': 'city not found'}"
      ]
     },
     "execution_count": 134,
     "metadata": {},
     "output_type": "execute_result"
    }
   ],
   "source": [
    "requests.get(url + \"&q=\" + city.city_name + \"&units=\" + units).json()"
   ]
  },
  {
   "cell_type": "code",
   "execution_count": 139,
   "metadata": {},
   "outputs": [
    {
     "data": {
      "text/plain": [
       "{'cod': '404', 'message': 'city not found'}"
      ]
     },
     "execution_count": 139,
     "metadata": {},
     "output_type": "execute_result"
    }
   ],
   "source": [
    "requests.get(url + \"&q=\" + city.city_name + \"&units=\" + units).json()"
   ]
  },
  {
   "cell_type": "code",
   "execution_count": 203,
   "metadata": {},
   "outputs": [],
   "source": [
    "# dependencies\n",
    "import random\n",
    "import requests\n",
    "import json\n",
    "import pandas as pd\n",
    "import matplotlib.pyplot as plt\n",
    "from citipy import citipy\n",
    "from config import api_key\n",
    "\n",
    "# init stuffs\n",
    "rand_cities = []\n",
    "url = \"http://api.openweathermap.org/data/2.5/weather?\" + \"appid=\" + api_key \n",
    "units = \"imperial\"\n",
    "\n",
    "# created random lat & long func\n",
    "def lat_random():\n",
    "    # rand between 90\n",
    "    return round(90*random.random()*random.uniform(-1,1),4)\n",
    "\n",
    "def long_random():\n",
    "    # random between 180\n",
    "    return round(180*random.random()*random.uniform(-1,1),4)"
   ]
  },
  {
   "cell_type": "code",
   "execution_count": 204,
   "metadata": {},
   "outputs": [
    {
     "data": {
      "text/html": [
       "<div>\n",
       "<style scoped>\n",
       "    .dataframe tbody tr th:only-of-type {\n",
       "        vertical-align: middle;\n",
       "    }\n",
       "\n",
       "    .dataframe tbody tr th {\n",
       "        vertical-align: top;\n",
       "    }\n",
       "\n",
       "    .dataframe thead th {\n",
       "        text-align: right;\n",
       "    }\n",
       "</style>\n",
       "<table border=\"1\" class=\"dataframe\">\n",
       "  <thead>\n",
       "    <tr style=\"text-align: right;\">\n",
       "      <th></th>\n",
       "      <th>latitude</th>\n",
       "      <th>longitude</th>\n",
       "      <th>city</th>\n",
       "      <th>country</th>\n",
       "      <th>max_temp</th>\n",
       "      <th>humidity</th>\n",
       "      <th>cloudiness</th>\n",
       "      <th>wind_speed</th>\n",
       "      <th>url</th>\n",
       "    </tr>\n",
       "  </thead>\n",
       "  <tbody>\n",
       "    <tr>\n",
       "      <th>0</th>\n",
       "      <td>-16.3469</td>\n",
       "      <td>-3.1404</td>\n",
       "      <td>jamestown</td>\n",
       "      <td>sh</td>\n",
       "      <td>55.10</td>\n",
       "      <td>97</td>\n",
       "      <td>68</td>\n",
       "      <td>8.63</td>\n",
       "      <td>http://api.openweathermap.org/data/2.5/weather...</td>\n",
       "    </tr>\n",
       "    <tr>\n",
       "      <th>1</th>\n",
       "      <td>-16.7679</td>\n",
       "      <td>21.6025</td>\n",
       "      <td>shakawe</td>\n",
       "      <td>bw</td>\n",
       "      <td>40.97</td>\n",
       "      <td>61</td>\n",
       "      <td>0</td>\n",
       "      <td>2.82</td>\n",
       "      <td>http://api.openweathermap.org/data/2.5/weather...</td>\n",
       "    </tr>\n",
       "    <tr>\n",
       "      <th>2</th>\n",
       "      <td>-52.6378</td>\n",
       "      <td>18.4549</td>\n",
       "      <td>bredasdorp</td>\n",
       "      <td>za</td>\n",
       "      <td>51.80</td>\n",
       "      <td>81</td>\n",
       "      <td>68</td>\n",
       "      <td>5.82</td>\n",
       "      <td>http://api.openweathermap.org/data/2.5/weather...</td>\n",
       "    </tr>\n",
       "    <tr>\n",
       "      <th>3</th>\n",
       "      <td>-33.6900</td>\n",
       "      <td>-73.0429</td>\n",
       "      <td>san antonio</td>\n",
       "      <td>cl</td>\n",
       "      <td>51.80</td>\n",
       "      <td>87</td>\n",
       "      <td>90</td>\n",
       "      <td>5.82</td>\n",
       "      <td>http://api.openweathermap.org/data/2.5/weather...</td>\n",
       "    </tr>\n",
       "    <tr>\n",
       "      <th>4</th>\n",
       "      <td>-40.8783</td>\n",
       "      <td>-89.4279</td>\n",
       "      <td>ancud</td>\n",
       "      <td>cl</td>\n",
       "      <td>38.99</td>\n",
       "      <td>99</td>\n",
       "      <td>92</td>\n",
       "      <td>4.38</td>\n",
       "      <td>http://api.openweathermap.org/data/2.5/weather...</td>\n",
       "    </tr>\n",
       "  </tbody>\n",
       "</table>\n",
       "</div>"
      ],
      "text/plain": [
       "   latitude  longitude         city country  max_temp  humidity  cloudiness  \\\n",
       "0  -16.3469    -3.1404    jamestown      sh     55.10        97          68   \n",
       "1  -16.7679    21.6025      shakawe      bw     40.97        61           0   \n",
       "2  -52.6378    18.4549   bredasdorp      za     51.80        81          68   \n",
       "3  -33.6900   -73.0429  san antonio      cl     51.80        87          90   \n",
       "4  -40.8783   -89.4279        ancud      cl     38.99        99          92   \n",
       "\n",
       "   wind_speed                                                url  \n",
       "0        8.63  http://api.openweathermap.org/data/2.5/weather...  \n",
       "1        2.82  http://api.openweathermap.org/data/2.5/weather...  \n",
       "2        5.82  http://api.openweathermap.org/data/2.5/weather...  \n",
       "3        5.82  http://api.openweathermap.org/data/2.5/weather...  \n",
       "4        4.38  http://api.openweathermap.org/data/2.5/weather...  "
      ]
     },
     "execution_count": 204,
     "metadata": {},
     "output_type": "execute_result"
    }
   ],
   "source": [
    "for i in range(5):\n",
    "    lat = lat_random()\n",
    "    long = long_random()\n",
    "    city = citipy.nearest_city(lat,long)\n",
    "    max_temp = requests.get(url + \"&q=\" + city.city_name + \"&units=\" + units).json()[\"main\"][\"temp_max\"]\n",
    "    humidity = requests.get(url + \"&q=\" + city.city_name + \"&units=\" + units).json()[\"main\"][\"humidity\"]\n",
    "    cloudiness = requests.get(url + \"&q=\" + city.city_name + \"&units=\" + units).json()[\"clouds\"][\"all\"]\n",
    "    wind_speed = requests.get(url + \"&q=\" + city.city_name + \"&units=\" + units).json()[\"wind\"][\"speed\"]\n",
    "    url2 = requests.get(url + \"&q=\" + city.city_name + \"&units=\" + units).url\n",
    "    rand_cities.append((lat,long,city.city_name,city.country_code, max_temp, humidity, cloudiness, wind_speed, url2))\n",
    "    \n",
    "# rand dataframe\n",
    "weather_df = pd.DataFrame(rand_cities,columns=[\"latitude\",\"longitude\",\"city\",\"country\",\"max_temp\",\"humidity\",\"cloudiness\",\"wind_speed\",\"url\"])\n",
    "weather_df.head()"
   ]
  },
  {
   "cell_type": "code",
   "execution_count": 205,
   "metadata": {},
   "outputs": [],
   "source": [
    "# to csv\n",
    "weather_df.to_csv(\"reubens_weather_pull.csv\", index=False,header=True)"
   ]
  },
  {
   "cell_type": "code",
   "execution_count": 206,
   "metadata": {},
   "outputs": [
    {
     "name": "stdout",
     "output_type": "stream",
     "text": [
      "------------------------------------------------------------------------------------------------\n",
      "Beginning Data Retrieval\n",
      "------------------------------------------------------------------------------------------------\n",
      "City Number: 0 of 500 | City Name: jamestown| \n",
      " URL:http://api.openweathermap.org/data/2.5/weather?appid=25bc90a1196e6f153eece0bc0b0fc9eb&q=jamestown&units=imperial\n",
      "City Number: 1 of 500 | City Name: shakawe| \n",
      " URL:http://api.openweathermap.org/data/2.5/weather?appid=25bc90a1196e6f153eece0bc0b0fc9eb&q=shakawe&units=imperial\n",
      "City Number: 2 of 500 | City Name: bredasdorp| \n",
      " URL:http://api.openweathermap.org/data/2.5/weather?appid=25bc90a1196e6f153eece0bc0b0fc9eb&q=bredasdorp&units=imperial\n",
      "City Number: 3 of 500 | City Name: san antonio| \n",
      " URL:http://api.openweathermap.org/data/2.5/weather?appid=25bc90a1196e6f153eece0bc0b0fc9eb&q=san%20antonio&units=imperial\n",
      "City Number: 4 of 500 | City Name: ancud| \n",
      " URL:http://api.openweathermap.org/data/2.5/weather?appid=25bc90a1196e6f153eece0bc0b0fc9eb&q=ancud&units=imperial\n",
      "------------------------------------------------------------------------------------------------\n",
      "End of Data Retrieval\n",
      "------------------------------------------------------------------------------------------------\n"
     ]
    }
   ],
   "source": [
    "# print log\n",
    "print(\"------------------------------------------------------------------------------------------------\")\n",
    "print(\"Beginning Data Retrieval\")\n",
    "print(\"------------------------------------------------------------------------------------------------\")\n",
    "\n",
    "for i in range(len(weather_df)):\n",
    "    print(\"City Number: \" + str(i) + \" of 500 | City Name: \" + weather_df[\"city\"].iloc[i] + \"| \\n URL:\" + weather_df[\"url\"].iloc[i])\n",
    "    \n",
    "print(\"------------------------------------------------------------------------------------------------\")\n",
    "print(\"End of Data Retrieval\")\n",
    "print(\"------------------------------------------------------------------------------------------------\")"
   ]
  },
  {
   "cell_type": "raw",
   "metadata": {},
   "source": [
    "# outline\n",
    "plt.scatter(<xaxis>,\n",
    "            <yaxis>,\n",
    "            s=<var>, \n",
    "            c=<var>,\n",
    "            alpha=<int>, \n",
    "            edgecolors=\"Black\", \n",
    "            figsize=(<x>,<y>))\n",
    "\n",
    "plt.title(\"     \")\n",
    "plt.xlabel(\"     \")\n",
    "plt.ylabel(\"     \")"
   ]
  },
  {
   "cell_type": "code",
   "execution_count": 188,
   "metadata": {},
   "outputs": [
    {
     "data": {
      "image/png": "[encoded data removed]",
      "text/plain": [
       "<matplotlib.figure.Figure at 0x1e41329a128>"
      ]
     },
     "metadata": {},
     "output_type": "display_data"
    }
   ],
   "source": [
    "# City Latitude vs Max Temperature\n",
    "plt.scatter(weather_df[\"latitude\"],\n",
    "            weather_df[\"max_temp\"],\n",
    "#             s=<var>, \n",
    "            c=\"blue\",\n",
    "            alpha=0.8, \n",
    "            edgecolors=\"Black\")\n",
    "\n",
    "plt.title(\"City Latitude vs. Max Temperature\")\n",
    "plt.xlabel(\"Latitude\")\n",
    "plt.ylabel(\"Max Temperature (F)\")\n",
    "plt.grid(True)\n",
    "plt.savefig(\"lat_vs_temp.png\")\n",
    "plt.show()"
   ]
  },
  {
   "cell_type": "code",
   "execution_count": 189,
   "metadata": {},
   "outputs": [
    {
     "data": {
      "image/png": "[encoded data removed]",
      "text/plain": [
       "<matplotlib.figure.Figure at 0x1e413577828>"
      ]
     },
     "metadata": {},
     "output_type": "display_data"
    }
   ],
   "source": [
    "# City Latitude vs Humidity\n",
    "plt.scatter(weather_df[\"latitude\"],\n",
    "            weather_df[\"humidity\"],\n",
    "#             s=<var>, \n",
    "            c=\"blue\",\n",
    "            alpha=0.8, \n",
    "            edgecolors=\"Black\")\n",
    "\n",
    "plt.title(\"lat_vs_humidity\")\n",
    "plt.xlabel(\"Latitude\")\n",
    "plt.ylabel(\"Humidity (%)\")\n",
    "plt.grid(True)\n",
    "plt.savefig(\"lat_vs_humidity.png\")\n",
    "plt.show()"
   ]
  },
  {
   "cell_type": "code",
   "execution_count": 191,
   "metadata": {},
   "outputs": [
    {
     "data": {
      "image/png": "[encoded data removed]",
      "text/plain": [
       "<matplotlib.figure.Figure at 0x1e41360fb70>"
      ]
     },
     "metadata": {},
     "output_type": "display_data"
    }
   ],
   "source": [
    "# City Latitude vs Cloudiness\n",
    "plt.scatter(weather_df[\"latitude\"],\n",
    "            weather_df[\"cloudiness\"],\n",
    "#             s=<var>, \n",
    "            c=\"blue\",\n",
    "            alpha=0.8, \n",
    "            edgecolors=\"Black\")\n",
    "\n",
    "plt.title(\"City Latitude vs. Cloudiness\")\n",
    "plt.xlabel(\"Latitude\")\n",
    "plt.ylabel(\"Humidity (%)\")\n",
    "plt.grid(True)\n",
    "plt.savefig(\"lat_vs_cloudiness.png\")\n",
    "plt.show()"
   ]
  },
  {
   "cell_type": "code",
   "execution_count": 199,
   "metadata": {},
   "outputs": [
    {
     "data": {
      "image/png": "[encoded data removed]",
      "text/plain": [
       "<matplotlib.figure.Figure at 0x1e41366cbe0>"
      ]
     },
     "metadata": {},
     "output_type": "display_data"
    }
   ],
   "source": [
    "# City Latitude vs Wind Speed\n",
    "plt.scatter(weather_df[\"latitude\"],\n",
    "            weather_df[\"wind_speed\"],\n",
    "#             s=<var>, \n",
    "            c=\"blue\",\n",
    "            alpha=0.8, \n",
    "            edgecolors=\"Black\")\n",
    "\n",
    "plt.title(\"City Latitude vs. Speed\")\n",
    "plt.xlabel(\"Latitude\")\n",
    "plt.ylabel(\"Wind Speed (mph)\")\n",
    "plt.grid(True)\n",
    "plt.savefig(\"lat_vs_speed.png\")\n",
    "plt.show()"
   ]
  }
 ],
 "metadata": {
  "kernelspec": {
   "display_name": "Python 3",
   "language": "python",
   "name": "python3"
  },
  "language_info": {
   "codemirror_mode": {
    "name": "ipython",
    "version": 3
   },
   "file_extension": ".py",
   "mimetype": "text/x-python",
   "name": "python",
   "nbconvert_exporter": "python",
   "pygments_lexer": "ipython3",
   "version": "3.6.4"
  }
 },
 "nbformat": 4,
 "nbformat_minor": 2
}
