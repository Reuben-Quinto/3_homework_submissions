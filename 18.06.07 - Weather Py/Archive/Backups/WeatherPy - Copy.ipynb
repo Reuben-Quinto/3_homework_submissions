{
 "cells": [
  {
   "cell_type": "markdown",
   "metadata": {},
   "source": [
    "## Resources\n",
    "\n",
    "https://www.openweathermap.org/api\n",
    "\n",
    "Latitude and longitude parameters: api.openweathermap.org/data/2.5/weather?lat={lat}&lon={lon}\n",
    "\n",
    "Documentation: https://www.openweathermap.org/current"
   ]
  },
  {
   "cell_type": "code",
   "execution_count": 22,
   "metadata": {},
   "outputs": [],
   "source": [
    "# dependencies\n",
    "import matplotlib as plt\n",
    "import requests\n",
    "from config import api_key\n",
    "\n",
    "\n",
    "url = \"http://api.openweathermap.org/data/2.5/weather?\" + \"appid=\" + api_key "
   ]
  },
  {
   "cell_type": "code",
   "execution_count": 23,
   "metadata": {},
   "outputs": [],
   "source": [
    "# parameters\n",
    "city = \"Paris\"\n",
    "units = \"imperial\"\n",
    "lat: \"34.052235\"\n",
    "lon: \"-118.243683\"\n",
    "\n",
    "# url_param = url + \"&q=\" + city + \"&units=\" + units\n",
    "# url_param_coor = url_param + \"lat={\" + lat + \"}&lon={\" + lon +\"}\"\n",
    "# url_param_coor"
   ]
  },
  {
   "cell_type": "code",
   "execution_count": 24,
   "metadata": {},
   "outputs": [
    {
     "data": {
      "text/plain": [
       "{'cod': 401,\n",
       " 'message': 'Invalid API key. Please see http://openweathermap.org/faq#error401 for more info.'}"
      ]
     },
     "execution_count": 24,
     "metadata": {},
     "output_type": "execute_result"
    }
   ],
   "source": [
    "# testing lon and lat\n",
    "requests.get(url+\"lat={34.052235}&lon={-118.243683}\").json()"
   ]
  },
  {
   "cell_type": "code",
   "execution_count": 25,
   "metadata": {},
   "outputs": [
    {
     "data": {
      "text/plain": [
       "{'base': 'stations',\n",
       " 'clouds': {'all': 1},\n",
       " 'cod': 200,\n",
       " 'coord': {'lat': 34.05, 'lon': -118.24},\n",
       " 'dt': 1528574280,\n",
       " 'id': 5368361,\n",
       " 'main': {'humidity': 54,\n",
       "  'pressure': 1013,\n",
       "  'temp': 299.78,\n",
       "  'temp_max': 305.15,\n",
       "  'temp_min': 294.15},\n",
       " 'name': 'Los Angeles',\n",
       " 'sys': {'country': 'US',\n",
       "  'id': 416,\n",
       "  'message': 0.005,\n",
       "  'sunrise': 1528548064,\n",
       "  'sunset': 1528599838,\n",
       "  'type': 1},\n",
       " 'visibility': 16093,\n",
       " 'weather': [{'description': 'clear sky',\n",
       "   'icon': '01d',\n",
       "   'id': 800,\n",
       "   'main': 'Clear'}],\n",
       " 'wind': {'speed': 1.5}}"
      ]
     },
     "execution_count": 25,
     "metadata": {},
     "output_type": "execute_result"
    }
   ],
   "source": [
    "# testing lon and lat 2\n",
    "requests.get(\"http://api.openweathermap.org/data/2.5/weather?\" + \"appid=\" + api_key + \"&lat=34.052235&lon=-118.243683\").json()"
   ]
  },
  {
   "cell_type": "code",
   "execution_count": 26,
   "metadata": {},
   "outputs": [
    {
     "data": {
      "text/plain": [
       "{'cod': 401,\n",
       " 'message': 'Invalid API key. Please see http://openweathermap.org/faq#error401 for more info.'}"
      ]
     },
     "execution_count": 26,
     "metadata": {},
     "output_type": "execute_result"
    }
   ],
   "source": [
    "# testing \"Cities within a rectangle zone\"\n",
    "requests.get(\"http://api.openweathermap.org/data/2.5/box/city?\" + \"appid=\" + api_key + \"bbox=\" + \"180,90,180,90\").json()"
   ]
  },
  {
   "cell_type": "code",
   "execution_count": null,
   "metadata": {},
   "outputs": [],
   "source": []
  },
  {
   "cell_type": "raw",
   "metadata": {},
   "source": [
    "# testing pointer\n",
    "\n",
    "rand = [(77.1872, -50.2987, 'upernavik', 'gl'),\n",
    " (-15.4319, -9.5621, 'jamestown', 'sh'),\n",
    " (-44.9778, -15.1282, 'jamestown', 'sh'),\n",
    " (29.1244, -34.5672, 'ribeira grande', 'pt'),\n",
    " (-15.7635, -16.8478, 'georgetown', 'sh'),\n",
    " (3.616, 92.3604, 'banda aceh', 'id'),\n",
    " (-11.3981, 7.9445, 'benguela', 'ao'),\n",
    " (22.6779, 81.9728, 'pendra', 'in'),\n",
    " (-20.0719, -68.9412, 'iquique', 'cl'),\n",
    " (6.1814, 98.3885, 'kuah', 'my')]\n",
    "\n",
    "_,_,city,_ = rand[0]\n",
    "print(city)"
   ]
  },
  {
   "cell_type": "code",
   "execution_count": 20,
   "metadata": {},
   "outputs": [
    {
     "name": "stdout",
     "output_type": "stream",
     "text": [
      "Requirement already satisfied: citipy in c:\\users\\reube\\anaconda3\\lib\\site-packages\n",
      "Requirement already satisfied: kdtree>=0.12 in c:\\users\\reube\\anaconda3\\lib\\site-packages (from citipy)\n"
     ]
    },
    {
     "name": "stderr",
     "output_type": "stream",
     "text": [
      "You are using pip version 9.0.1, however version 10.0.1 is available.\n",
      "You should consider upgrading via the 'python -m pip install --upgrade pip' command.\n"
     ]
    }
   ],
   "source": [
    "!pip install citipy"
   ]
  },
  {
   "cell_type": "code",
   "execution_count": 27,
   "metadata": {},
   "outputs": [
    {
     "ename": "NameError",
     "evalue": "name 'citipy' is not defined",
     "output_type": "error",
     "traceback": [
      "\u001b[1;31m---------------------------------------------------------------------------\u001b[0m",
      "\u001b[1;31mNameError\u001b[0m                                 Traceback (most recent call last)",
      "\u001b[1;32m<ipython-input-27-ee6c3f7cfc0a>\u001b[0m in \u001b[0;36m<module>\u001b[1;34m()\u001b[0m\n\u001b[1;32m----> 1\u001b[1;33m \u001b[0mcity\u001b[0m \u001b[1;33m=\u001b[0m \u001b[0mcitipy\u001b[0m\u001b[1;33m.\u001b[0m\u001b[0mnearest_city\u001b[0m\u001b[1;33m(\u001b[0m\u001b[1;36m33.8583\u001b[0m\u001b[1;33m,\u001b[0m \u001b[1;33m-\u001b[0m\u001b[1;36m118.0648\u001b[0m\u001b[1;33m)\u001b[0m\u001b[1;33m\u001b[0m\u001b[0m\n\u001b[0m\u001b[0;32m      2\u001b[0m \u001b[0mcity\u001b[0m\u001b[1;33m.\u001b[0m\u001b[0mcity_name\u001b[0m\u001b[1;33m\u001b[0m\u001b[0m\n",
      "\u001b[1;31mNameError\u001b[0m: name 'citipy' is not defined"
     ]
    }
   ],
   "source": [
    "city = citipy.nearest_city(33.8583, -118.0648)\n",
    "city.city_name"
   ]
  },
  {
   "cell_type": "code",
   "execution_count": null,
   "metadata": {},
   "outputs": [],
   "source": []
  },
  {
   "cell_type": "code",
   "execution_count": 30,
   "metadata": {},
   "outputs": [
    {
     "name": "stdout",
     "output_type": "stream",
     "text": [
      "[(3.0781, 13.0335, 'abong mbang', 'cm', '71.09', 'http://api.openweathermap.org/data/2.5/weather?appid=25bc90a1196e6f153eece0bc0b0fc9eb&q=abong%20mbang&units=imperial'), (-6.3374, 12.0318, 'soyo', 'ao', '71.09', 'http://api.openweathermap.org/data/2.5/weather?appid=25bc90a1196e6f153eece0bc0b0fc9eb&q=abong%20mbang&units=imperial&q=soyo&units=imperial'), (27.1451, 95.2228, 'sonari', 'in', '71.09', 'http://api.openweathermap.org/data/2.5/weather?appid=25bc90a1196e6f153eece0bc0b0fc9eb&q=abong%20mbang&units=imperial&q=soyo&units=imperial&q=sonari&units=imperial'), (2.6849, -4.1377, 'jacqueville', 'ci', '71.09', 'http://api.openweathermap.org/data/2.5/weather?appid=25bc90a1196e6f153eece0bc0b0fc9eb&q=abong%20mbang&units=imperial&q=soyo&units=imperial&q=sonari&units=imperial&q=jacqueville&units=imperial'), (-0.9756, 104.2643, 'simpang', 'id', '71.09', 'http://api.openweathermap.org/data/2.5/weather?appid=25bc90a1196e6f153eece0bc0b0fc9eb&q=abong%20mbang&units=imperial&q=soyo&units=imperial&q=sonari&units=imperial&q=jacqueville&units=imperial&q=simpang&units=imperial')]\n",
      "-------------------------\n"
     ]
    },
    {
     "data": {
      "text/html": [
       "<div>\n",
       "<style scoped>\n",
       "    .dataframe tbody tr th:only-of-type {\n",
       "        vertical-align: middle;\n",
       "    }\n",
       "\n",
       "    .dataframe tbody tr th {\n",
       "        vertical-align: top;\n",
       "    }\n",
       "\n",
       "    .dataframe thead th {\n",
       "        text-align: right;\n",
       "    }\n",
       "</style>\n",
       "<table border=\"1\" class=\"dataframe\">\n",
       "  <thead>\n",
       "    <tr style=\"text-align: right;\">\n",
       "      <th></th>\n",
       "      <th>latitude</th>\n",
       "      <th>longitude</th>\n",
       "      <th>city</th>\n",
       "      <th>country_cd</th>\n",
       "      <th>temp</th>\n",
       "      <th>url</th>\n",
       "    </tr>\n",
       "  </thead>\n",
       "  <tbody>\n",
       "    <tr>\n",
       "      <th>0</th>\n",
       "      <td>3.0781</td>\n",
       "      <td>13.0335</td>\n",
       "      <td>abong mbang</td>\n",
       "      <td>cm</td>\n",
       "      <td>71.09</td>\n",
       "      <td>http://api.openweathermap.org/data/2.5/weather...</td>\n",
       "    </tr>\n",
       "    <tr>\n",
       "      <th>1</th>\n",
       "      <td>-6.3374</td>\n",
       "      <td>12.0318</td>\n",
       "      <td>soyo</td>\n",
       "      <td>ao</td>\n",
       "      <td>71.09</td>\n",
       "      <td>http://api.openweathermap.org/data/2.5/weather...</td>\n",
       "    </tr>\n",
       "    <tr>\n",
       "      <th>2</th>\n",
       "      <td>27.1451</td>\n",
       "      <td>95.2228</td>\n",
       "      <td>sonari</td>\n",
       "      <td>in</td>\n",
       "      <td>71.09</td>\n",
       "      <td>http://api.openweathermap.org/data/2.5/weather...</td>\n",
       "    </tr>\n",
       "    <tr>\n",
       "      <th>3</th>\n",
       "      <td>2.6849</td>\n",
       "      <td>-4.1377</td>\n",
       "      <td>jacqueville</td>\n",
       "      <td>ci</td>\n",
       "      <td>71.09</td>\n",
       "      <td>http://api.openweathermap.org/data/2.5/weather...</td>\n",
       "    </tr>\n",
       "    <tr>\n",
       "      <th>4</th>\n",
       "      <td>-0.9756</td>\n",
       "      <td>104.2643</td>\n",
       "      <td>simpang</td>\n",
       "      <td>id</td>\n",
       "      <td>71.09</td>\n",
       "      <td>http://api.openweathermap.org/data/2.5/weather...</td>\n",
       "    </tr>\n",
       "  </tbody>\n",
       "</table>\n",
       "</div>"
      ],
      "text/plain": [
       "   latitude  longitude         city country_cd   temp  \\\n",
       "0    3.0781    13.0335  abong mbang         cm  71.09   \n",
       "1   -6.3374    12.0318         soyo         ao  71.09   \n",
       "2   27.1451    95.2228       sonari         in  71.09   \n",
       "3    2.6849    -4.1377  jacqueville         ci  71.09   \n",
       "4   -0.9756   104.2643      simpang         id  71.09   \n",
       "\n",
       "                                                 url  \n",
       "0  http://api.openweathermap.org/data/2.5/weather...  \n",
       "1  http://api.openweathermap.org/data/2.5/weather...  \n",
       "2  http://api.openweathermap.org/data/2.5/weather...  \n",
       "3  http://api.openweathermap.org/data/2.5/weather...  \n",
       "4  http://api.openweathermap.org/data/2.5/weather...  "
      ]
     },
     "execution_count": 30,
     "metadata": {},
     "output_type": "execute_result"
    }
   ],
   "source": [
    "# dependencies\n",
    "import random\n",
    "import requests\n",
    "import json\n",
    "import pandas as pd\n",
    "import matplotlib.pyplot as plt\n",
    "from citipy import citipy\n",
    "from config import api_key\n",
    "\n",
    "# init stuffs\n",
    "rand_cities = []\n",
    "url = \"http://api.openweathermap.org/data/2.5/weather?\" + \"appid=\" + api_key \n",
    "units = \"imperial\"\n",
    "\n",
    "# created random lat & long func\n",
    "def lat_random():\n",
    "    # rand between 90\n",
    "    return round(90*random.random()*random.uniform(-1,1),4)\n",
    "\n",
    "def long_random():\n",
    "    # random between 180\n",
    "    return round(180*random.random()*random.uniform(-1,1),4)\n",
    "\n",
    "for i in range(5):\n",
    "    lat = lat_random()\n",
    "    long = long_random()\n",
    "    city = citipy.nearest_city(lat,long)\n",
    "    temp = json.dumps(requests.get(url + \"&q=\" + city.city_name + \"&units=\" + units).json()[\"main\"][\"temp\"])\n",
    "    url = requests.get(url + \"&q=\" + city.city_name + \"&units=\" + units).url\n",
    "    rand_cities.append((lat,long,city.city_name,city.country_code, temp,url))\n",
    "    \n",
    "print(rand_cities)\n",
    "print(\"-------------------------\")\n",
    "weather_df = pd.DataFrame(rand_cities,columns=[\"latitude\",\"longitude\",\"city\",\"country_cd\",\"temp\",\"url\"])\n",
    "weather_df.head()"
   ]
  },
  {
   "cell_type": "code",
   "execution_count": 36,
   "metadata": {},
   "outputs": [
    {
     "name": "stdout",
     "output_type": "stream",
     "text": [
      "Print Log: -------------------------------------------------------------------------------------------\n",
      "\n",
      "City Number: 0. City Name: abong mbang. URL:http://api.openweathermap.org/data/2.5/weather?appid=25bc90a1196e6f153eece0bc0b0fc9eb&q=abong%20mbang&units=imperial\n",
      "City Number: 1. City Name: soyo. URL:http://api.openweathermap.org/data/2.5/weather?appid=25bc90a1196e6f153eece0bc0b0fc9eb&q=abong%20mbang&units=imperial&q=soyo&units=imperial\n",
      "City Number: 2. City Name: sonari. URL:http://api.openweathermap.org/data/2.5/weather?appid=25bc90a1196e6f153eece0bc0b0fc9eb&q=abong%20mbang&units=imperial&q=soyo&units=imperial&q=sonari&units=imperial\n",
      "City Number: 3. City Name: jacqueville. URL:http://api.openweathermap.org/data/2.5/weather?appid=25bc90a1196e6f153eece0bc0b0fc9eb&q=abong%20mbang&units=imperial&q=soyo&units=imperial&q=sonari&units=imperial&q=jacqueville&units=imperial\n",
      "City Number: 4. City Name: simpang. URL:http://api.openweathermap.org/data/2.5/weather?appid=25bc90a1196e6f153eece0bc0b0fc9eb&q=abong%20mbang&units=imperial&q=soyo&units=imperial&q=sonari&units=imperial&q=jacqueville&units=imperial&q=simpang&units=imperial\n"
     ]
    }
   ],
   "source": [
    "# print log\n",
    "print(\"Print Log: -------------------------------------------------------------------------------------------\\n\")\n",
    "for i in range(len(weather_df)):\n",
    "    print(\"City Number: \" + str(i) + \". City Name: \" + weather_df[\"city\"].iloc[i] + \". URL:\" + weather_df[\"url\"].iloc[i])"
   ]
  },
  {
   "cell_type": "code",
   "execution_count": null,
   "metadata": {},
   "outputs": [],
   "source": [
    "plt.scatter(<xaxis>,\n",
    "            <yaxis>,\n",
    "            s=<var>, \n",
    "            c=<var>,\n",
    "            alpha=<int>, \n",
    "            edgecolors=\"Black\", \n",
    "            figsize=(<x>,<y>))\n",
    "\n",
    "plt.title(\"     \")\n",
    "plt.xlabel(\"     \")\n",
    "plt.ylabel(\"     \")\n"
   ]
  }
 ],
 "metadata": {
  "kernelspec": {
   "display_name": "Python 3",
   "language": "python",
   "name": "python3"
  },
  "language_info": {
   "codemirror_mode": {
    "name": "ipython",
    "version": 3
   },
   "file_extension": ".py",
   "mimetype": "text/x-python",
   "name": "python",
   "nbconvert_exporter": "python",
   "pygments_lexer": "ipython3",
   "version": "3.6.4"
  }
 },
 "nbformat": 4,
 "nbformat_minor": 2
}
